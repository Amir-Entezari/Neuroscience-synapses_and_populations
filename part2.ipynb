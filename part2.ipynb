{
 "cells": [
  {
   "cell_type": "markdown",
   "source": [
    "# Project 2: part2"
   ],
   "metadata": {
    "collapsed": false
   }
  },
  {
   "cell_type": "markdown",
   "source": [
    "## Import libraries"
   ],
   "metadata": {
    "collapsed": false
   }
  },
  {
   "cell_type": "code",
   "execution_count": 1,
   "metadata": {
    "collapsed": true,
    "ExecuteTime": {
     "start_time": "2024-03-28T11:16:00.128646Z",
     "end_time": "2024-03-28T11:16:03.251075Z"
    }
   },
   "outputs": [],
   "source": [
    "from pymonntorch import *\n",
    "import torch\n",
    "\n",
    "import matplotlib.pyplot as plt\n",
    "\n",
    "from models.activity import ActivityRecorder\n",
    "from models.dendrites import Dendrite\n",
    "from models.currents import ConstantCurrent, NoisyCurrent, SetCurrent, StepFunction\n",
    "from models.neurons import LIF\n",
    "from models.synapses import SimpleSynapse, FullyConnectedSynapse, RandomConnectedFixedProbSynapse, \\\n",
    "    RandomConnectedFixedInputSynapse\n",
    "from models.time_res import TimeResolution"
   ]
  },
  {
   "cell_type": "code",
   "execution_count": 2,
   "outputs": [],
   "source": [
    "def plot_neuron_activity(net, ng_name, title, info_text=None):\n",
    "\n",
    "    fig, axs = plt.subplots(3, 2, figsize=(18, 8), sharex=True)\n",
    "\n",
    "    # Plot the membrane potential(voltage)\n",
    "    axs[0, 0].plot(net[f\"{ng_name}_rec\", 0].variables[\"u\"][:, :])\n",
    "    axs[0, 0].axhline(y=net.NeuronGroups[0].behavior[5].init_kwargs['threshold'], color='red', linestyle='--', label=f\"{ng_name} Threshold\")\n",
    "    axs[0, 0].set_xlabel('t')\n",
    "    axs[0, 0].set_ylabel('U(t)')\n",
    "    axs[0, 0].legend()\n",
    "    axs[0, 0].set_title('Membrane Potential')\n",
    "\n",
    "    # Plot the current\n",
    "    axs[1, 0].plot(net[f\"{ng_name}_rec\", 0].variables[\"I\"][:, :])\n",
    "    axs[1, 0].set_xlabel('t')\n",
    "    axs[1, 0].set_ylabel('I(t)')\n",
    "    axs[1, 0].legend()\n",
    "    axs[1, 0].set_title('Current')\n",
    "\n",
    "    # Plot the raster plot\n",
    "    spike_events = net[f\"{ng_name}_event\", 0].variables[\"spike\"]\n",
    "    spike_times = spike_events[:, 0]\n",
    "    neuron_ids = spike_events[:, 1]\n",
    "    axs[0, 1].scatter(spike_times, neuron_ids, s=5)\n",
    "    axs[0, 1].set_xlabel('Time')\n",
    "    axs[0, 1].set_ylabel('Neuron ID')\n",
    "    axs[0, 1].legend()\n",
    "    axs[0, 1].set_title('Raster Plot for LIF model')\n",
    "\n",
    "    # Plot the activity\n",
    "    axs[1, 1].plot(net[f\"{ng_name}_rec\", 0].variables[\"activity\"])\n",
    "    axs[1, 1].set_xlabel('Time')\n",
    "    axs[1, 1].set_ylabel('activity')\n",
    "    axs[1, 1].legend()\n",
    "    axs[1, 1].set_title('Activity')\n",
    "\n",
    "    # Additional subplot for text and information\n",
    "    axs[2, 0].axis('off')  # Turn off the axis for this subplot\n",
    "    axs[2, 1].axis('off')\n",
    "    axs[2, 0].text(0.1, 0.5, info_text, bbox=dict(facecolor='white', alpha=0.5))\n",
    "\n",
    "    fig.suptitle(title, fontsize=20, fontweight='bold')\n",
    "    plt.tight_layout()\n",
    "    plt.show()\n",
    "\n",
    "\n",
    "def plot_weight_distribution(weight_matrix, bins=50, density=True):\n",
    "    # Flatten the weight matrix into a 1D array\n",
    "    weights_flat = weight_matrix.flatten()\n",
    "\n",
    "    # Plot the distribution using a histogram\n",
    "    plt.hist(weights_flat, bins=bins, density=density, alpha=0.7, color='b')\n",
    "    plt.title('Weight Matrix Distribution')\n",
    "    plt.xlabel('Weight Values')\n",
    "    plt.ylabel('Frequency')\n",
    "    plt.grid(True)\n",
    "    plt.show()\n",
    "\n"
   ],
   "metadata": {
    "collapsed": false,
    "ExecuteTime": {
     "start_time": "2024-03-28T11:16:03.248038Z",
     "end_time": "2024-03-28T11:16:03.259686Z"
    }
   }
  },
  {
   "cell_type": "markdown",
   "source": [
    "# Part 2: Implementing 3 synapses connectivity schemes"
   ],
   "metadata": {
    "collapsed": false
   }
  },
  {
   "cell_type": "markdown",
   "source": [
    "The 3 synapses connectivity schemes has been implemented in synapses model, here we just use and experiment them with examples."
   ],
   "metadata": {
    "collapsed": false
   }
  },
  {
   "cell_type": "markdown",
   "source": [
    "We have experimented the fully connected scheme in the part1, based on the goal of this part, here we focus more in the synapse parameters. we begin with a simple one population synapse:"
   ],
   "metadata": {
    "collapsed": false
   }
  },
  {
   "cell_type": "markdown",
   "source": [
    "# 1- Fully connected synapses"
   ],
   "metadata": {
    "collapsed": false
   }
  },
  {
   "cell_type": "markdown",
   "source": [
    "## 1.1 Inside one neuron group synapse:\n",
    "We saw the behavior of the population when there is no noise or randomness in neurons; Now we change parameters of synapse to see results. For example, we test the population with a low variance(5% of the weights), normal variance(25% of the weights), high variance(50% of the weights) and extremely high variance(100% of the weights)."
   ],
   "metadata": {
    "collapsed": false
   }
  },
  {
   "cell_type": "markdown",
   "source": [
    "### 1.1.1 Change in variance"
   ],
   "metadata": {
    "collapsed": false
   }
  },
  {
   "cell_type": "markdown",
   "source": [
    "#### 1.1.1 a) Low variance for weights"
   ],
   "metadata": {
    "collapsed": false
   }
  },
  {
   "cell_type": "code",
   "execution_count": null,
   "outputs": [],
   "source": [
    "net = Network(behavior={1: TimeResolution(dt=1.0), })\n",
    "pop1 = NeuronGroup(\n",
    "    net=net,\n",
    "    size=100,\n",
    "    behavior={\n",
    "        # 2: SetCurrent(value=100),\n",
    "        3: ConstantCurrent(value=7),\n",
    "        4: Dendrite(),\n",
    "        5: LIF(\n",
    "            tau=10,\n",
    "            u_rest=-65,\n",
    "            u_reset=-70,\n",
    "            threshold=-32,\n",
    "            R=5,\n",
    "        ),\n",
    "        7: ActivityRecorder(),\n",
    "        8: Recorder(variables=[\"u\", \"I\", \"activity\"], tag=\"ng1_rec\"),\n",
    "        9: EventRecorder(variables=['spike'], tag=\"ng1_event\")\n",
    "    }\n",
    ")\n",
    "\n",
    "syn = SynapseGroup(net=net,\n",
    "                   tag=\"All\",\n",
    "                   src=pop1,\n",
    "                   dst=pop1,\n",
    "                   behavior={3: FullyConnectedSynapse(j0=25, variance=0.05)})\n",
    "\n",
    "net.initialize()\n",
    "net.simulate_iterations(iterations=200)"
   ],
   "metadata": {
    "collapsed": false,
    "ExecuteTime": {
     "start_time": "2024-03-28T10:59:11.154804Z",
     "end_time": "2024-03-28T10:59:11.307053Z"
    }
   }
  },
  {
   "cell_type": "code",
   "execution_count": null,
   "outputs": [],
   "source": [
    "plot_neuron_activity(net, \"ng1\", \"synapse inside one neuron group\")"
   ],
   "metadata": {
    "collapsed": false,
    "ExecuteTime": {
     "start_time": "2024-03-28T11:00:09.759600Z",
     "end_time": "2024-03-28T11:00:11.986082Z"
    }
   }
  },
  {
   "cell_type": "markdown",
   "source": [
    "#### 1.1.1 b) normal variance for weights"
   ],
   "metadata": {
    "collapsed": false
   }
  },
  {
   "cell_type": "code",
   "execution_count": null,
   "outputs": [],
   "source": [
    "net = Network(behavior={1: TimeResolution(dt=1.0), })\n",
    "pop1 = NeuronGroup(\n",
    "    net=net,\n",
    "    size=100,\n",
    "    behavior={\n",
    "        # 2: SetCurrent(value=100),\n",
    "        3: ConstantCurrent(value=7),\n",
    "        4: Dendrite(),\n",
    "        5: LIF(\n",
    "            tau=10,\n",
    "            u_rest=-65,\n",
    "            u_reset=-70,\n",
    "            threshold=-32,\n",
    "            R=5,\n",
    "        ),\n",
    "        7: ActivityRecorder(),\n",
    "        8: Recorder(variables=[\"u\", \"I\", \"activity\"], tag=\"ng1_rec\"),\n",
    "        9: EventRecorder(variables=['spike'], tag=\"ng1_event\")\n",
    "    }\n",
    ")\n",
    "\n",
    "syn = SynapseGroup(net=net,\n",
    "                   tag=\"All\",\n",
    "                   src=pop1,\n",
    "                   dst=pop1,\n",
    "                   behavior={3: FullyConnectedSynapse(j0=25, variance=0.25)})\n",
    "\n",
    "net.initialize()\n",
    "net.simulate_iterations(iterations=200)"
   ],
   "metadata": {
    "collapsed": false,
    "ExecuteTime": {
     "start_time": "2024-03-28T00:22:57.881652Z",
     "end_time": "2024-03-28T00:22:58.051484Z"
    }
   }
  },
  {
   "cell_type": "code",
   "execution_count": null,
   "outputs": [],
   "source": [
    "plot_neuron_activity(net, \"ng1\", \"synapse inside one neuron group\")"
   ],
   "metadata": {
    "collapsed": false,
    "ExecuteTime": {
     "start_time": "2024-03-28T00:23:03.753634Z",
     "end_time": "2024-03-28T00:23:04.856003Z"
    }
   }
  },
  {
   "cell_type": "markdown",
   "source": [
    "#### 1.1.1 c) high variance for weights"
   ],
   "metadata": {
    "collapsed": false
   }
  },
  {
   "cell_type": "code",
   "execution_count": null,
   "outputs": [],
   "source": [
    "net = Network(behavior={1: TimeResolution(dt=1.0), })\n",
    "pop1 = NeuronGroup(\n",
    "    net=net,\n",
    "    size=100,\n",
    "    behavior={\n",
    "        # 2: SetCurrent(value=100),\n",
    "        3: ConstantCurrent(value=7),\n",
    "        4: Dendrite(),\n",
    "        5: LIF(\n",
    "            tau=10,\n",
    "            u_rest=-65,\n",
    "            u_reset=-70,\n",
    "            threshold=-32,\n",
    "            R=5,\n",
    "        ),\n",
    "        7: ActivityRecorder(),\n",
    "        8: Recorder(variables=[\"u\", \"I\", \"activity\"], tag=\"ng1_rec\"),\n",
    "        9: EventRecorder(variables=['spike'], tag=\"ng1_event\")\n",
    "    }\n",
    ")\n",
    "\n",
    "syn = SynapseGroup(net=net,\n",
    "                   tag=\"All\",\n",
    "                   src=pop1,\n",
    "                   dst=pop1,\n",
    "                   behavior={3: FullyConnectedSynapse(j0=25, variance=0.5)})\n",
    "\n",
    "net.initialize()\n",
    "net.simulate_iterations(iterations=200)"
   ],
   "metadata": {
    "collapsed": false,
    "ExecuteTime": {
     "start_time": "2024-03-27T20:49:29.045795Z",
     "end_time": "2024-03-27T20:49:29.193579Z"
    }
   }
  },
  {
   "cell_type": "code",
   "execution_count": null,
   "outputs": [],
   "source": [
    "plot_neuron_activity(net, \"ng1\", \"synapse inside one neuron group\")"
   ],
   "metadata": {
    "collapsed": false,
    "ExecuteTime": {
     "start_time": "2024-03-27T20:49:29.199896Z",
     "end_time": "2024-03-27T20:49:30.453942Z"
    }
   }
  },
  {
   "cell_type": "markdown",
   "source": [
    "#### 1.1.1 d) extremely high variance for weights"
   ],
   "metadata": {
    "collapsed": false
   }
  },
  {
   "cell_type": "code",
   "execution_count": null,
   "outputs": [],
   "source": [
    "net = Network(behavior={1: TimeResolution(dt=1.0), })\n",
    "pop1 = NeuronGroup(\n",
    "    net=net,\n",
    "    size=100,\n",
    "    behavior={\n",
    "        # 2: SetCurrent(value=100),\n",
    "        3: ConstantCurrent(value=7),\n",
    "        4: Dendrite(),\n",
    "        5: LIF(\n",
    "            tau=10,\n",
    "            u_rest=-65,\n",
    "            u_reset=-70,\n",
    "            threshold=-32,\n",
    "            R=5,\n",
    "        ),\n",
    "        7: ActivityRecorder(),\n",
    "        8: Recorder(variables=[\"u\", \"I\", \"activity\"], tag=\"ng1_rec\"),\n",
    "        9: EventRecorder(variables=['spike'], tag=\"ng1_event\")\n",
    "    }\n",
    ")\n",
    "\n",
    "syn = SynapseGroup(net=net,\n",
    "                   tag=\"All\",\n",
    "                   src=pop1,\n",
    "                   dst=pop1,\n",
    "                   behavior={3: FullyConnectedSynapse(j0=25, variance=1)})\n",
    "\n",
    "net.initialize()\n",
    "net.simulate_iterations(iterations=200)"
   ],
   "metadata": {
    "collapsed": false,
    "ExecuteTime": {
     "start_time": "2024-03-27T20:49:30.451859Z",
     "end_time": "2024-03-27T20:49:30.566938Z"
    }
   }
  },
  {
   "cell_type": "code",
   "execution_count": null,
   "outputs": [],
   "source": [
    "plot_neuron_activity(net, \"ng1\", \"synapse inside one neuron group\")"
   ],
   "metadata": {
    "collapsed": false,
    "ExecuteTime": {
     "start_time": "2024-03-27T20:49:30.580964Z",
     "end_time": "2024-03-27T20:49:31.676191Z"
    }
   }
  },
  {
   "cell_type": "markdown",
   "source": [
    "As we see, beside the fact that all neurons are the same at the begining, when we increase the variance of weights, the time of spikes of neurons will be different."
   ],
   "metadata": {
    "collapsed": false
   }
  },
  {
   "cell_type": "markdown",
   "source": [
    "### 1.1.2 Change in variance when neurons have different values in initial and noisy current:"
   ],
   "metadata": {
    "collapsed": false
   }
  },
  {
   "cell_type": "markdown",
   "source": [
    "What if we do the same when neurons are not the same at the begining? for example, the initial membrane potential of neurons are different and the constant current is noisy"
   ],
   "metadata": {
    "collapsed": false
   }
  },
  {
   "cell_type": "markdown",
   "source": [
    "#### 1.1.2 a) Low variance for weights"
   ],
   "metadata": {
    "collapsed": false
   }
  },
  {
   "cell_type": "code",
   "execution_count": null,
   "outputs": [],
   "source": [
    "net = Network(behavior={1: TimeResolution(dt=1.0), })\n",
    "pop1 = NeuronGroup(\n",
    "    net=net,\n",
    "    size=100,\n",
    "    behavior={\n",
    "        # 2: SetCurrent(value=100),\n",
    "        3: ConstantCurrent(value=7,\n",
    "                           noise_range=1),\n",
    "        4: Dendrite(),\n",
    "        5: LIF(\n",
    "            tau=10,\n",
    "            u_rest=-65,\n",
    "            u_reset=-70,\n",
    "            threshold=-32,\n",
    "            R=5,\n",
    "            u_init=\"normal(-60, 10)\"\n",
    "        ),\n",
    "        7: ActivityRecorder(),\n",
    "        8: Recorder(variables=[\"u\", \"I\", \"activity\"], tag=\"ng1_rec\"),\n",
    "        9: EventRecorder(variables=['spike'], tag=\"ng1_event\")\n",
    "    }\n",
    ")\n",
    "\n",
    "syn = SynapseGroup(net=net,\n",
    "                   tag=\"All\",\n",
    "                   src=pop1,\n",
    "                   dst=pop1,\n",
    "                   behavior={3: FullyConnectedSynapse(j0=25, variance=0.05)})\n",
    "\n",
    "net.initialize()\n",
    "net.simulate_iterations(iterations=200)"
   ],
   "metadata": {
    "collapsed": false,
    "ExecuteTime": {
     "start_time": "2024-03-27T20:49:31.675836Z",
     "end_time": "2024-03-27T20:49:31.778187Z"
    }
   }
  },
  {
   "cell_type": "code",
   "execution_count": null,
   "outputs": [],
   "source": [
    "plot_neuron_activity(net, \"ng1\", \"synapse inside one neuron group\")"
   ],
   "metadata": {
    "collapsed": false,
    "ExecuteTime": {
     "start_time": "2024-03-27T20:49:31.781285Z",
     "end_time": "2024-03-27T20:49:32.825821Z"
    }
   }
  },
  {
   "cell_type": "markdown",
   "source": [
    "#### 1.1.2 b) normal variance for weights"
   ],
   "metadata": {
    "collapsed": false
   }
  },
  {
   "cell_type": "code",
   "execution_count": null,
   "outputs": [],
   "source": [
    "net = Network(behavior={1: TimeResolution(dt=1.0), })\n",
    "pop1 = NeuronGroup(\n",
    "    net=net,\n",
    "    size=100,\n",
    "    behavior={\n",
    "        # 2: SetCurrent(value=100),\n",
    "        3: ConstantCurrent(value=7,\n",
    "                           noise_range=1),\n",
    "        4: Dendrite(),\n",
    "        5: LIF(\n",
    "            tau=10,\n",
    "            u_rest=-65,\n",
    "            u_reset=-70,\n",
    "            threshold=-32,\n",
    "            R=5,\n",
    "            u_init=\"normal(-60, 10)\"\n",
    "        ),\n",
    "        7: ActivityRecorder(),\n",
    "        8: Recorder(variables=[\"u\", \"I\", \"activity\"], tag=\"ng1_rec\"),\n",
    "        9: EventRecorder(variables=['spike'], tag=\"ng1_event\")\n",
    "    }\n",
    ")\n",
    "\n",
    "syn = SynapseGroup(net=net,\n",
    "                   tag=\"All\",\n",
    "                   src=pop1,\n",
    "                   dst=pop1,\n",
    "                   behavior={3: FullyConnectedSynapse(j0=25, variance=0.25)})\n",
    "\n",
    "net.initialize()\n",
    "net.simulate_iterations(iterations=200)"
   ],
   "metadata": {
    "collapsed": false,
    "ExecuteTime": {
     "start_time": "2024-03-27T20:49:32.825490Z",
     "end_time": "2024-03-27T20:49:32.938688Z"
    }
   }
  },
  {
   "cell_type": "code",
   "execution_count": null,
   "outputs": [],
   "source": [
    "plot_neuron_activity(net, \"ng1\", \"synapse inside one neuron group\")"
   ],
   "metadata": {
    "collapsed": false,
    "ExecuteTime": {
     "start_time": "2024-03-27T20:49:32.960317Z",
     "end_time": "2024-03-27T20:49:34.163159Z"
    }
   }
  },
  {
   "cell_type": "markdown",
   "source": [
    "#### 1.1.2 c) high variance for weights"
   ],
   "metadata": {
    "collapsed": false
   }
  },
  {
   "cell_type": "code",
   "execution_count": null,
   "outputs": [],
   "source": [
    "net = Network(behavior={1: TimeResolution(dt=1.0), })\n",
    "pop1 = NeuronGroup(\n",
    "    net=net,\n",
    "    size=100,\n",
    "    behavior={\n",
    "        # 2: SetCurrent(value=100),\n",
    "        3: ConstantCurrent(value=7,\n",
    "                           noise_range=1),\n",
    "        4: Dendrite(),\n",
    "        5: LIF(\n",
    "            tau=10,\n",
    "            u_rest=-65,\n",
    "            u_reset=-70,\n",
    "            threshold=-32,\n",
    "            R=5,\n",
    "            u_init=\"normal(-60, 10)\"\n",
    "        ),\n",
    "        7: ActivityRecorder(),\n",
    "        8: Recorder(variables=[\"u\", \"I\", \"activity\"], tag=\"ng1_rec\"),\n",
    "        9: EventRecorder(variables=['spike'], tag=\"ng1_event\")\n",
    "    }\n",
    ")\n",
    "\n",
    "syn = SynapseGroup(net=net,\n",
    "                   tag=\"All\",\n",
    "                   src=pop1,\n",
    "                   dst=pop1,\n",
    "                   behavior={3: FullyConnectedSynapse(j0=25, variance=0.5)})\n",
    "\n",
    "net.initialize()\n",
    "net.simulate_iterations(iterations=200)"
   ],
   "metadata": {
    "collapsed": false,
    "ExecuteTime": {
     "start_time": "2024-03-27T20:49:34.162953Z",
     "end_time": "2024-03-27T20:49:34.265429Z"
    }
   }
  },
  {
   "cell_type": "code",
   "execution_count": null,
   "outputs": [],
   "source": [
    "plot_neuron_activity(net, \"ng1\", \"synapse inside one neuron group\")\n"
   ],
   "metadata": {
    "collapsed": false,
    "ExecuteTime": {
     "start_time": "2024-03-27T20:49:34.265330Z",
     "end_time": "2024-03-27T20:49:35.388407Z"
    }
   }
  },
  {
   "cell_type": "markdown",
   "source": [
    "#### 1.1.2 d) extremely high variance for weights"
   ],
   "metadata": {
    "collapsed": false
   }
  },
  {
   "cell_type": "code",
   "execution_count": null,
   "outputs": [],
   "source": [
    "net = Network(behavior={1: TimeResolution(dt=1.0), })\n",
    "pop1 = NeuronGroup(\n",
    "    net=net,\n",
    "    size=100,\n",
    "    behavior={\n",
    "        # 2: SetCurrent(value=100),\n",
    "        3: ConstantCurrent(value=7,\n",
    "                           noise_range=1),\n",
    "        4: Dendrite(),\n",
    "        5: LIF(\n",
    "            tau=10,\n",
    "            u_rest=-65,\n",
    "            u_reset=-70,\n",
    "            threshold=-32,\n",
    "            R=5,\n",
    "            u_init=\"normal(-60, 10)\"\n",
    "        ),\n",
    "        7: ActivityRecorder(),\n",
    "        8: Recorder(variables=[\"u\", \"I\", \"activity\"], tag=\"ng1_rec\"),\n",
    "        9: EventRecorder(variables=['spike'], tag=\"ng1_event\")\n",
    "    }\n",
    ")\n",
    "\n",
    "syn = SynapseGroup(net=net,\n",
    "                   tag=\"All\",\n",
    "                   src=pop1,\n",
    "                   dst=pop1,\n",
    "                   behavior={3: FullyConnectedSynapse(j0=25, variance=1)})\n",
    "\n",
    "net.initialize()\n",
    "net.simulate_iterations(iterations=200)"
   ],
   "metadata": {
    "collapsed": false,
    "ExecuteTime": {
     "start_time": "2024-03-27T20:49:35.388136Z",
     "end_time": "2024-03-27T20:49:35.495862Z"
    }
   }
  },
  {
   "cell_type": "code",
   "execution_count": null,
   "outputs": [],
   "source": [
    "plot_neuron_activity(net, \"ng1\", \"synapse inside one neuron group\")"
   ],
   "metadata": {
    "collapsed": false,
    "ExecuteTime": {
     "start_time": "2024-03-27T20:49:35.514772Z",
     "end_time": "2024-03-27T20:49:36.707565Z"
    }
   }
  },
  {
   "cell_type": "markdown",
   "source": [
    "### 1.1.3 Change in J0"
   ],
   "metadata": {
    "collapsed": false
   }
  },
  {
   "cell_type": "markdown",
   "source": [
    "Now let's play with the j0. We test it with low j0=5, normal j0=25 and high j0=35."
   ],
   "metadata": {
    "collapsed": false
   }
  },
  {
   "cell_type": "markdown",
   "source": [
    "#### 1.1.3 a) Low j0 for weights"
   ],
   "metadata": {
    "collapsed": false
   }
  },
  {
   "cell_type": "code",
   "execution_count": null,
   "outputs": [],
   "source": [
    "net = Network(behavior={1: TimeResolution(dt=1.0), })\n",
    "pop1 = NeuronGroup(\n",
    "    net=net,\n",
    "    size=100,\n",
    "    behavior={\n",
    "        # 2: SetCurrent(value=100),\n",
    "        3: ConstantCurrent(value=7,\n",
    "                           noise_range=1),\n",
    "        4: Dendrite(),\n",
    "        5: LIF(\n",
    "            tau=10,\n",
    "            u_rest=-65,\n",
    "            u_reset=-70,\n",
    "            threshold=-32,\n",
    "            R=5,\n",
    "            u_init=\"normal(-60, 10)\"\n",
    "        ),\n",
    "        7: ActivityRecorder(),\n",
    "        8: Recorder(variables=[\"u\", \"I\", \"activity\"], tag=\"ng1_rec\"),\n",
    "        9: EventRecorder(variables=['spike'], tag=\"ng1_event\")\n",
    "    }\n",
    ")\n",
    "\n",
    "syn = SynapseGroup(net=net,\n",
    "                   tag=\"All\",\n",
    "                   src=pop1,\n",
    "                   dst=pop1,\n",
    "                   behavior={3: FullyConnectedSynapse(j0=5, variance=0.25)})\n",
    "\n",
    "net.initialize()\n",
    "net.simulate_iterations(iterations=200)"
   ],
   "metadata": {
    "collapsed": false,
    "ExecuteTime": {
     "start_time": "2024-03-27T20:49:36.702902Z",
     "end_time": "2024-03-27T20:49:36.820734Z"
    }
   }
  },
  {
   "cell_type": "code",
   "execution_count": null,
   "outputs": [],
   "source": [
    "plot_neuron_activity(net, \"ng1\", \"synapse inside one neuron group\")"
   ],
   "metadata": {
    "collapsed": false,
    "ExecuteTime": {
     "start_time": "2024-03-27T20:49:36.845953Z",
     "end_time": "2024-03-27T20:49:37.951804Z"
    }
   }
  },
  {
   "cell_type": "markdown",
   "source": [
    "#### 1.1.3 b) normal j0 for weights"
   ],
   "metadata": {
    "collapsed": false
   }
  },
  {
   "cell_type": "code",
   "execution_count": null,
   "outputs": [],
   "source": [
    "net = Network(behavior={1: TimeResolution(dt=1.0), })\n",
    "pop1 = NeuronGroup(\n",
    "    net=net,\n",
    "    size=100,\n",
    "    behavior={\n",
    "        # 2: SetCurrent(value=100),\n",
    "        3: ConstantCurrent(value=7,\n",
    "                           noise_range=1),\n",
    "        4: Dendrite(),\n",
    "        5: LIF(\n",
    "            tau=10,\n",
    "            u_rest=-65,\n",
    "            u_reset=-70,\n",
    "            threshold=-32,\n",
    "            R=5,\n",
    "            u_init=\"normal(-60, 10)\"\n",
    "        ),\n",
    "        7: ActivityRecorder(),\n",
    "        8: Recorder(variables=[\"u\", \"I\", \"activity\"], tag=\"ng1_rec\"),\n",
    "        9: EventRecorder(variables=['spike'], tag=\"ng1_event\")\n",
    "    }\n",
    ")\n",
    "\n",
    "syn = SynapseGroup(net=net,\n",
    "                   tag=\"All\",\n",
    "                   src=pop1,\n",
    "                   dst=pop1,\n",
    "                   behavior={3: FullyConnectedSynapse(j0=25, variance=0.25)})\n",
    "\n",
    "net.initialize()\n",
    "net.simulate_iterations(iterations=200)"
   ],
   "metadata": {
    "collapsed": false,
    "ExecuteTime": {
     "start_time": "2024-03-27T20:49:37.948731Z",
     "end_time": "2024-03-27T20:49:38.068614Z"
    }
   }
  },
  {
   "cell_type": "code",
   "execution_count": null,
   "outputs": [],
   "source": [
    "plot_neuron_activity(net, \"ng1\", \"synapse inside one neuron group\")"
   ],
   "metadata": {
    "collapsed": false,
    "ExecuteTime": {
     "start_time": "2024-03-27T20:49:38.071791Z",
     "end_time": "2024-03-27T20:49:39.081097Z"
    }
   }
  },
  {
   "cell_type": "markdown",
   "source": [
    "#### 1.1.3 c) high j0 for weights"
   ],
   "metadata": {
    "collapsed": false
   }
  },
  {
   "cell_type": "code",
   "execution_count": null,
   "outputs": [],
   "source": [
    "net = Network(behavior={1: TimeResolution(dt=1.0), })\n",
    "pop1 = NeuronGroup(\n",
    "    net=net,\n",
    "    size=100,\n",
    "    behavior={\n",
    "        # 2: SetCurrent(value=100),\n",
    "        3: ConstantCurrent(value=7,\n",
    "                           noise_range=1),\n",
    "        4: Dendrite(),\n",
    "        5: LIF(\n",
    "            tau=10,\n",
    "            u_rest=-65,\n",
    "            u_reset=-70,\n",
    "            threshold=-32,\n",
    "            R=5,\n",
    "            u_init=\"normal(-60, 10)\"\n",
    "        ),\n",
    "        7: ActivityRecorder(),\n",
    "        8: Recorder(variables=[\"u\", \"I\", \"activity\"], tag=\"ng1_rec\"),\n",
    "        9: EventRecorder(variables=['spike'], tag=\"ng1_event\")\n",
    "    }\n",
    ")\n",
    "\n",
    "syn = SynapseGroup(net=net,\n",
    "                   tag=\"All\",\n",
    "                   src=pop1,\n",
    "                   dst=pop1,\n",
    "                   behavior={3: FullyConnectedSynapse(j0=35, variance=0.25)})\n",
    "\n",
    "net.initialize()\n",
    "net.simulate_iterations(iterations=200)"
   ],
   "metadata": {
    "collapsed": false,
    "ExecuteTime": {
     "start_time": "2024-03-27T20:49:39.076327Z",
     "end_time": "2024-03-27T20:49:39.186894Z"
    }
   }
  },
  {
   "cell_type": "code",
   "execution_count": null,
   "outputs": [],
   "source": [
    "plot_neuron_activity(net, \"ng1\", \"synapse inside one neuron group\")"
   ],
   "metadata": {
    "collapsed": false,
    "ExecuteTime": {
     "start_time": "2024-03-27T20:49:39.185325Z",
     "end_time": "2024-03-27T20:49:40.535396Z"
    }
   }
  },
  {
   "cell_type": "markdown",
   "source": [
    "## 1.2 Synapse between two groups:\n",
    "Now let's create a synapse between two groups of neurons. First, we test when there's no noise and all neurons begin with the same membrane potential. Now we change parameters of synapse to see results. For example, we test the population with a low variance(5% of the weights), normal variance(25% of the weights), high variance(50% of the weights) and extremely high variance(100% of the weights)."
   ],
   "metadata": {
    "collapsed": false
   }
  },
  {
   "cell_type": "markdown",
   "source": [
    "### 1.2.1 Change in variance"
   ],
   "metadata": {
    "collapsed": false
   }
  },
  {
   "cell_type": "markdown",
   "source": [
    "#### 1.2.1 a) low variance for weights"
   ],
   "metadata": {
    "collapsed": false
   }
  },
  {
   "cell_type": "code",
   "execution_count": null,
   "outputs": [],
   "source": [
    "net = Network(behavior={1: TimeResolution(dt=1.0), })\n",
    "pop1 = NeuronGroup(\n",
    "    net=net,\n",
    "    size=100,\n",
    "    behavior={\n",
    "        # 2: SetCurrent(value=100),\n",
    "        3: ConstantCurrent(value=7),\n",
    "        4: Dendrite(),\n",
    "        5: LIF(\n",
    "            tau=10,\n",
    "            u_rest=-65,\n",
    "            u_reset=-70,\n",
    "            threshold=-32,\n",
    "            R=5,\n",
    "            # u_init=\"normal(-60, 10)\",\n",
    "        ),\n",
    "        7: ActivityRecorder(),\n",
    "        8: Recorder(variables=[\"u\", \"I\", \"activity\"], tag=\"ng1_rec\"),\n",
    "        9: EventRecorder(variables=['spike'], tag=\"ng1_event\")\n",
    "    }\n",
    ")\n",
    "pop2 = NeuronGroup(\n",
    "                    net=net,\n",
    "                    size=100,\n",
    "                    behavior={\n",
    "                        # 2: SetCurrent(value=100),\n",
    "                        3: ConstantCurrent(value=7),\n",
    "                        4: Dendrite(),\n",
    "                        5: LIF(\n",
    "                            tau=10,\n",
    "                            u_rest=-65,\n",
    "                            u_reset=-70,\n",
    "                            threshold=-32,\n",
    "                            R=5,\n",
    "                            # u_init=\"normal(-60, 10)\",\n",
    "                        ),\n",
    "                        7: ActivityRecorder(),\n",
    "                        8: Recorder(variables=[\"u\", \"I\", \"activity\"], tag=\"ng2_rec\"),\n",
    "                        9: EventRecorder(variables=['spike'], tag=\"ng2_event\")\n",
    "                    }\n",
    "                )\n",
    "syn = SynapseGroup(net=net,\n",
    "                   tag=\"All\",\n",
    "                   src=pop1,\n",
    "                   dst=pop2,\n",
    "                   behavior={3: FullyConnectedSynapse(j0=25, variance=0.05)})\n",
    "\n",
    "net.initialize()\n",
    "net.simulate_iterations(iterations=200)"
   ],
   "metadata": {
    "collapsed": false,
    "ExecuteTime": {
     "start_time": "2024-03-27T20:49:40.531950Z",
     "end_time": "2024-03-27T20:49:40.714600Z"
    }
   }
  },
  {
   "cell_type": "code",
   "execution_count": null,
   "outputs": [],
   "source": [
    "plot_neuron_activity(net, \"ng1\", \"neuron activity for presynaptice neuron group\")\n",
    "plot_neuron_activity(net, \"ng2\", \"neuron activity for postsynaptic neuron group\")"
   ],
   "metadata": {
    "collapsed": false,
    "ExecuteTime": {
     "start_time": "2024-03-27T20:49:40.728227Z",
     "end_time": "2024-03-27T20:49:42.716006Z"
    }
   }
  },
  {
   "cell_type": "markdown",
   "source": [
    "#### 1.2.1 b) normal variance for weights"
   ],
   "metadata": {
    "collapsed": false
   }
  },
  {
   "cell_type": "code",
   "execution_count": null,
   "outputs": [],
   "source": [
    "net = Network(behavior={1: TimeResolution(dt=1.0), })\n",
    "pop1 = NeuronGroup(\n",
    "    net=net,\n",
    "    size=100,\n",
    "    behavior={\n",
    "        # 2: SetCurrent(value=100),\n",
    "        3: ConstantCurrent(value=7),\n",
    "        4: Dendrite(),\n",
    "        5: LIF(\n",
    "            tau=10,\n",
    "            u_rest=-65,\n",
    "            u_reset=-70,\n",
    "            threshold=-32,\n",
    "            R=5,\n",
    "            # u_init=\"normal(-60, 10)\",\n",
    "        ),\n",
    "        7: ActivityRecorder(),\n",
    "        8: Recorder(variables=[\"u\", \"I\", \"activity\"], tag=\"ng1_rec\"),\n",
    "        9: EventRecorder(variables=['spike'], tag=\"ng1_event\")\n",
    "    }\n",
    ")\n",
    "pop2 = NeuronGroup(\n",
    "                    net=net,\n",
    "                    size=100,\n",
    "                    behavior={\n",
    "                        # 2: SetCurrent(value=100),\n",
    "                        3: ConstantCurrent(value=7),\n",
    "                        4: Dendrite(),\n",
    "                        5: LIF(\n",
    "                            tau=10,\n",
    "                            u_rest=-65,\n",
    "                            u_reset=-70,\n",
    "                            threshold=-32,\n",
    "                            R=5,\n",
    "                            # u_init=\"normal(-60, 10)\",\n",
    "                        ),\n",
    "                        7: ActivityRecorder(),\n",
    "                        8: Recorder(variables=[\"u\", \"I\", \"activity\"], tag=\"ng2_rec\"),\n",
    "                        9: EventRecorder(variables=['spike'], tag=\"ng2_event\")\n",
    "                    }\n",
    "                )\n",
    "syn = SynapseGroup(net=net,\n",
    "                   tag=\"All\",\n",
    "                   src=pop1,\n",
    "                   dst=pop2,\n",
    "                   behavior={3: FullyConnectedSynapse(j0=25, variance=0.25)})\n",
    "\n",
    "net.initialize()\n",
    "net.simulate_iterations(iterations=200)"
   ],
   "metadata": {
    "collapsed": false,
    "ExecuteTime": {
     "start_time": "2024-03-27T20:49:42.720305Z",
     "end_time": "2024-03-27T20:49:42.902378Z"
    }
   }
  },
  {
   "cell_type": "code",
   "execution_count": null,
   "outputs": [],
   "source": [
    "plot_neuron_activity(net, \"ng1\", \"neuron activity for presynaptice neuron group\")\n",
    "plot_neuron_activity(net, \"ng2\", \"neuron activity for postsynaptic neuron group\")"
   ],
   "metadata": {
    "collapsed": false,
    "ExecuteTime": {
     "start_time": "2024-03-27T20:49:42.933567Z",
     "end_time": "2024-03-27T20:49:44.901309Z"
    }
   }
  },
  {
   "cell_type": "markdown",
   "source": [
    "#### 1.2.1 c) high variance for weights"
   ],
   "metadata": {
    "collapsed": false
   }
  },
  {
   "cell_type": "code",
   "execution_count": null,
   "outputs": [],
   "source": [
    "net = Network(behavior={1: TimeResolution(dt=1.0), })\n",
    "pop1 = NeuronGroup(\n",
    "    net=net,\n",
    "    size=100,\n",
    "    behavior={\n",
    "        # 2: SetCurrent(value=100),\n",
    "        3: ConstantCurrent(value=7),\n",
    "        4: Dendrite(),\n",
    "        5: LIF(\n",
    "            tau=10,\n",
    "            u_rest=-65,\n",
    "            u_reset=-70,\n",
    "            threshold=-32,\n",
    "            R=5,\n",
    "            # u_init=\"normal(-60, 10)\",\n",
    "        ),\n",
    "        7: ActivityRecorder(),\n",
    "        8: Recorder(variables=[\"u\", \"I\", \"activity\"], tag=\"ng1_rec\"),\n",
    "        9: EventRecorder(variables=['spike'], tag=\"ng1_event\")\n",
    "    }\n",
    ")\n",
    "pop2 = NeuronGroup(\n",
    "                    net=net,\n",
    "                    size=100,\n",
    "                    behavior={\n",
    "                        # 2: SetCurrent(value=100),\n",
    "                        3: ConstantCurrent(value=7),\n",
    "                        4: Dendrite(),\n",
    "                        5: LIF(\n",
    "                            tau=10,\n",
    "                            u_rest=-65,\n",
    "                            u_reset=-70,\n",
    "                            threshold=-32,\n",
    "                            R=5,\n",
    "                            # u_init=\"normal(-60, 10)\",\n",
    "                        ),\n",
    "                        7: ActivityRecorder(),\n",
    "                        8: Recorder(variables=[\"u\", \"I\", \"activity\"], tag=\"ng2_rec\"),\n",
    "                        9: EventRecorder(variables=['spike'], tag=\"ng2_event\")\n",
    "                    }\n",
    "                )\n",
    "syn = SynapseGroup(net=net,\n",
    "                   tag=\"All\",\n",
    "                   src=pop1,\n",
    "                   dst=pop2,\n",
    "                   behavior={3: FullyConnectedSynapse(j0=25, variance=1)})\n",
    "\n",
    "net.initialize()\n",
    "net.simulate_iterations(iterations=200)"
   ],
   "metadata": {
    "collapsed": false,
    "ExecuteTime": {
     "start_time": "2024-03-27T20:49:44.904217Z",
     "end_time": "2024-03-27T20:49:45.083330Z"
    }
   }
  },
  {
   "cell_type": "code",
   "execution_count": null,
   "outputs": [],
   "source": [
    "plot_neuron_activity(net, \"ng1\", \"neuron activity for presynaptice neuron group\")\n",
    "plot_neuron_activity(net, \"ng2\", \"neuron activity for postsynaptic neuron group\")"
   ],
   "metadata": {
    "collapsed": false,
    "ExecuteTime": {
     "start_time": "2024-03-27T20:49:45.086346Z",
     "end_time": "2024-03-27T20:49:47.019430Z"
    }
   }
  },
  {
   "cell_type": "markdown",
   "source": [
    "As we see, postsynaptic neuron spike just whenever the presynaptic neurons spike."
   ],
   "metadata": {
    "collapsed": false
   }
  },
  {
   "cell_type": "markdown",
   "source": [
    "### 1.2.2 Change in variance when neurons have different values in initial and noisy current:"
   ],
   "metadata": {
    "collapsed": false
   }
  },
  {
   "cell_type": "markdown",
   "source": [
    "#### 1.2.2 a) Low variance for weights"
   ],
   "metadata": {
    "collapsed": false
   }
  },
  {
   "cell_type": "code",
   "execution_count": null,
   "outputs": [],
   "source": [
    "net = Network(behavior={1: TimeResolution(dt=1.0), })\n",
    "pop1 = NeuronGroup(\n",
    "    net=net,\n",
    "    size=100,\n",
    "    behavior={\n",
    "        # 2: SetCurrent(value=100),\n",
    "        3: ConstantCurrent(value=7,\n",
    "                           noise_range=1),\n",
    "        4: Dendrite(),\n",
    "        5: LIF(\n",
    "            tau=10,\n",
    "            u_rest=-65,\n",
    "            u_reset=-70,\n",
    "            threshold=-32,\n",
    "            R=5,\n",
    "            u_init=\"normal(-60, 10)\",\n",
    "        ),\n",
    "        7: ActivityRecorder(),\n",
    "        8: Recorder(variables=[\"u\", \"I\", \"activity\"], tag=\"ng1_rec\"),\n",
    "        9: EventRecorder(variables=['spike'], tag=\"ng1_event\")\n",
    "    }\n",
    ")\n",
    "pop2 = NeuronGroup(\n",
    "                    net=net,\n",
    "                    size=100,\n",
    "                    behavior={\n",
    "                        # 2: SetCurrent(value=100),\n",
    "                        3: ConstantCurrent(value=7),\n",
    "                        4: Dendrite(),\n",
    "                        5: LIF(\n",
    "                            tau=10,\n",
    "                            u_rest=-65,\n",
    "                            u_reset=-70,\n",
    "                            threshold=-32,\n",
    "                            R=5,\n",
    "                            u_init=\"normal(-60, 10)\",\n",
    "                        ),\n",
    "                        7: ActivityRecorder(),\n",
    "                        8: Recorder(variables=[\"u\", \"I\", \"activity\"], tag=\"ng2_rec\"),\n",
    "                        9: EventRecorder(variables=['spike'], tag=\"ng2_event\")\n",
    "                    }\n",
    "                )\n",
    "syn = SynapseGroup(net=net,\n",
    "                   tag=\"All\",\n",
    "                   src=pop1,\n",
    "                   dst=pop2,\n",
    "                   behavior={3: FullyConnectedSynapse(j0=25, variance=0.05)})\n",
    "\n",
    "net.initialize()\n",
    "net.simulate_iterations(iterations=200)"
   ],
   "metadata": {
    "collapsed": false,
    "ExecuteTime": {
     "start_time": "2024-03-27T20:49:47.022935Z",
     "end_time": "2024-03-27T20:49:47.201441Z"
    }
   }
  },
  {
   "cell_type": "code",
   "execution_count": null,
   "outputs": [],
   "source": [
    "plot_neuron_activity(net, \"ng1\", \"neuron activity for presynaptice neuron group\")\n",
    "plot_neuron_activity(net, \"ng2\", \"neuron activity for postsynaptic neuron group\")"
   ],
   "metadata": {
    "collapsed": false,
    "ExecuteTime": {
     "start_time": "2024-03-27T20:49:47.231216Z",
     "end_time": "2024-03-27T20:49:49.407555Z"
    }
   }
  },
  {
   "cell_type": "markdown",
   "source": [
    "#### 1.2.2 b) normal variance for weights"
   ],
   "metadata": {
    "collapsed": false
   }
  },
  {
   "cell_type": "code",
   "execution_count": null,
   "outputs": [],
   "source": [
    "net = Network(behavior={1: TimeResolution(dt=1.0), })\n",
    "pop1 = NeuronGroup(\n",
    "    net=net,\n",
    "    size=100,\n",
    "    behavior={\n",
    "        # 2: SetCurrent(value=100),\n",
    "        3: ConstantCurrent(value=7,\n",
    "                           noise_range=1),\n",
    "        4: Dendrite(),\n",
    "        5: LIF(\n",
    "            tau=10,\n",
    "            u_rest=-65,\n",
    "            u_reset=-70,\n",
    "            threshold=-32,\n",
    "            R=5,\n",
    "            u_init=\"normal(-60, 10)\",\n",
    "        ),\n",
    "        7: ActivityRecorder(),\n",
    "        8: Recorder(variables=[\"u\", \"I\", \"activity\"], tag=\"ng1_rec\"),\n",
    "        9: EventRecorder(variables=['spike'], tag=\"ng1_event\")\n",
    "    }\n",
    ")\n",
    "pop2 = NeuronGroup(\n",
    "                    net=net,\n",
    "                    size=100,\n",
    "                    behavior={\n",
    "                        # 2: SetCurrent(value=100),\n",
    "                        3: ConstantCurrent(value=7),\n",
    "                        4: Dendrite(),\n",
    "                        5: LIF(\n",
    "                            tau=10,\n",
    "                            u_rest=-65,\n",
    "                            u_reset=-70,\n",
    "                            threshold=-32,\n",
    "                            R=5,\n",
    "                            u_init=\"normal(-60, 10)\",\n",
    "                        ),\n",
    "                        7: ActivityRecorder(),\n",
    "                        8: Recorder(variables=[\"u\", \"I\", \"activity\"], tag=\"ng2_rec\"),\n",
    "                        9: EventRecorder(variables=['spike'], tag=\"ng2_event\")\n",
    "                    }\n",
    "                )\n",
    "syn = SynapseGroup(net=net,\n",
    "                   tag=\"All\",\n",
    "                   src=pop1,\n",
    "                   dst=pop2,\n",
    "                   behavior={3: FullyConnectedSynapse(j0=25, variance=0.25)})\n",
    "\n",
    "net.initialize()\n",
    "net.simulate_iterations(iterations=200)"
   ],
   "metadata": {
    "collapsed": false,
    "ExecuteTime": {
     "start_time": "2024-03-27T20:49:49.409801Z",
     "end_time": "2024-03-27T20:49:49.592614Z"
    }
   }
  },
  {
   "cell_type": "code",
   "execution_count": null,
   "outputs": [],
   "source": [
    "plot_neuron_activity(net, \"ng1\", \"neuron activity for presynaptice neuron group\")\n",
    "plot_neuron_activity(net, \"ng2\", \"neuron activity for postsynaptic neuron group\")"
   ],
   "metadata": {
    "collapsed": false,
    "ExecuteTime": {
     "start_time": "2024-03-27T20:49:49.623564Z",
     "end_time": "2024-03-27T20:49:51.783471Z"
    }
   }
  },
  {
   "cell_type": "markdown",
   "source": [
    "#### 1.2.2 c) high variance for weights"
   ],
   "metadata": {
    "collapsed": false
   }
  },
  {
   "cell_type": "code",
   "execution_count": null,
   "outputs": [],
   "source": [
    "net = Network(behavior={1: TimeResolution(dt=1.0), })\n",
    "pop1 = NeuronGroup(\n",
    "    net=net,\n",
    "    size=100,\n",
    "    behavior={\n",
    "        # 2: SetCurrent(value=100),\n",
    "        3: ConstantCurrent(value=7,\n",
    "                           noise_range=1),\n",
    "        4: Dendrite(),\n",
    "        5: LIF(\n",
    "            tau=10,\n",
    "            u_rest=-65,\n",
    "            u_reset=-70,\n",
    "            threshold=-32,\n",
    "            R=5,\n",
    "            u_init=\"normal(-60, 10)\",\n",
    "        ),\n",
    "        7: ActivityRecorder(),\n",
    "        8: Recorder(variables=[\"u\", \"I\", \"activity\"], tag=\"ng1_rec\"),\n",
    "        9: EventRecorder(variables=['spike'], tag=\"ng1_event\")\n",
    "    }\n",
    ")\n",
    "pop2 = NeuronGroup(\n",
    "                    net=net,\n",
    "                    size=100,\n",
    "                    behavior={\n",
    "                        # 2: SetCurrent(value=100),\n",
    "                        3: ConstantCurrent(value=7),\n",
    "                        4: Dendrite(),\n",
    "                        5: LIF(\n",
    "                            tau=10,\n",
    "                            u_rest=-65,\n",
    "                            u_reset=-70,\n",
    "                            threshold=-32,\n",
    "                            R=5,\n",
    "                            # u_init=\"normal(-60, 10)\",\n",
    "                        ),\n",
    "                        7: ActivityRecorder(),\n",
    "                        8: Recorder(variables=[\"u\", \"I\", \"activity\"], tag=\"ng2_rec\"),\n",
    "                        9: EventRecorder(variables=['spike'], tag=\"ng2_event\")\n",
    "                    }\n",
    "                )\n",
    "syn = SynapseGroup(net=net,\n",
    "                   tag=\"All\",\n",
    "                   src=pop1,\n",
    "                   dst=pop2,\n",
    "                   behavior={3: FullyConnectedSynapse(j0=25, variance=0.5)})\n",
    "\n",
    "net.initialize()\n",
    "net.simulate_iterations(iterations=200)"
   ],
   "metadata": {
    "collapsed": false,
    "ExecuteTime": {
     "start_time": "2024-03-27T20:49:51.783202Z",
     "end_time": "2024-03-27T20:49:51.964786Z"
    }
   }
  },
  {
   "cell_type": "code",
   "execution_count": null,
   "outputs": [],
   "source": [
    "plot_neuron_activity(net, \"ng1\", \"neuron activity for presynaptice neuron group\")\n",
    "plot_neuron_activity(net, \"ng2\", \"neuron activity for postsynaptic neuron group\")"
   ],
   "metadata": {
    "collapsed": false,
    "ExecuteTime": {
     "start_time": "2024-03-27T20:49:51.965635Z",
     "end_time": "2024-03-27T20:49:54.335533Z"
    }
   }
  },
  {
   "cell_type": "markdown",
   "source": [
    "### 1.2.3 Change in j0"
   ],
   "metadata": {
    "collapsed": false
   }
  },
  {
   "cell_type": "markdown",
   "source": [
    "Now we fix the variance to a normal value(25%) and change the j0 for low=5, normal=25 and high=30."
   ],
   "metadata": {
    "collapsed": false
   }
  },
  {
   "cell_type": "markdown",
   "source": [
    "#### 1.2.3 a) low j0 for weights"
   ],
   "metadata": {
    "collapsed": false
   }
  },
  {
   "cell_type": "code",
   "execution_count": null,
   "outputs": [],
   "source": [
    "net = Network(behavior={1: TimeResolution(dt=1.0), })\n",
    "pop1 = NeuronGroup(\n",
    "    net=net,\n",
    "    size=100,\n",
    "    behavior={\n",
    "        # 2: SetCurrent(value=100),\n",
    "        3: ConstantCurrent(value=7,\n",
    "                           noise_range=1),\n",
    "        4: Dendrite(),\n",
    "        5: LIF(\n",
    "            tau=10,\n",
    "            u_rest=-65,\n",
    "            u_reset=-70,\n",
    "            threshold=-32,\n",
    "            R=5,\n",
    "            u_init=\"normal(-60, 10)\",\n",
    "        ),\n",
    "        7: ActivityRecorder(),\n",
    "        8: Recorder(variables=[\"u\", \"I\", \"activity\"], tag=\"ng1_rec\"),\n",
    "        9: EventRecorder(variables=['spike'], tag=\"ng1_event\")\n",
    "    }\n",
    ")\n",
    "pop2 = NeuronGroup(\n",
    "                    net=net,\n",
    "                    size=100,\n",
    "                    behavior={\n",
    "                        # 2: SetCurrent(value=100),\n",
    "                        3: ConstantCurrent(value=7),\n",
    "                        4: Dendrite(),\n",
    "                        5: LIF(\n",
    "                            tau=10,\n",
    "                            u_rest=-65,\n",
    "                            u_reset=-70,\n",
    "                            threshold=-32,\n",
    "                            R=5,\n",
    "                            u_init=\"normal(-60, 10)\",\n",
    "                        ),\n",
    "                        7: ActivityRecorder(),\n",
    "                        8: Recorder(variables=[\"u\", \"I\", \"activity\"], tag=\"ng2_rec\"),\n",
    "                        9: EventRecorder(variables=['spike'], tag=\"ng2_event\")\n",
    "                    }\n",
    "                )\n",
    "syn = SynapseGroup(net=net,\n",
    "                   tag=\"All\",\n",
    "                   src=pop1,\n",
    "                   dst=pop2,\n",
    "                   behavior={3: FullyConnectedSynapse(j0=5, variance=0.25)})\n",
    "\n",
    "net.initialize()\n",
    "net.simulate_iterations(iterations=200)"
   ],
   "metadata": {
    "collapsed": false,
    "ExecuteTime": {
     "start_time": "2024-03-27T20:49:54.335257Z",
     "end_time": "2024-03-27T20:49:54.575128Z"
    }
   }
  },
  {
   "cell_type": "code",
   "execution_count": null,
   "outputs": [],
   "source": [
    "plot_neuron_activity(net, \"ng1\", \"neuron activity for presynaptice neuron group\")\n",
    "plot_neuron_activity(net, \"ng2\", \"neuron activity for postsynaptic neuron group\")"
   ],
   "metadata": {
    "collapsed": false,
    "ExecuteTime": {
     "start_time": "2024-03-27T20:49:54.550435Z",
     "end_time": "2024-03-27T20:49:56.689502Z"
    }
   }
  },
  {
   "cell_type": "markdown",
   "source": [
    "#### 1.2.3 b) normal j0 for weights"
   ],
   "metadata": {
    "collapsed": false
   }
  },
  {
   "cell_type": "code",
   "execution_count": null,
   "outputs": [],
   "source": [
    "net = Network(behavior={1: TimeResolution(dt=1.0), })\n",
    "pop1 = NeuronGroup(\n",
    "    net=net,\n",
    "    size=100,\n",
    "    behavior={\n",
    "        # 2: SetCurrent(value=100),\n",
    "        3: ConstantCurrent(value=7,\n",
    "                           noise_range=1),\n",
    "        4: Dendrite(),\n",
    "        5: LIF(\n",
    "            tau=10,\n",
    "            u_rest=-65,\n",
    "            u_reset=-70,\n",
    "            threshold=-32,\n",
    "            R=5,\n",
    "            u_init=\"normal(-60, 10)\",\n",
    "        ),\n",
    "        7: ActivityRecorder(),\n",
    "        8: Recorder(variables=[\"u\", \"I\", \"activity\"], tag=\"ng1_rec\"),\n",
    "        9: EventRecorder(variables=['spike'], tag=\"ng1_event\")\n",
    "    }\n",
    ")\n",
    "pop2 = NeuronGroup(\n",
    "                    net=net,\n",
    "                    size=100,\n",
    "                    behavior={\n",
    "                        # 2: SetCurrent(value=100),\n",
    "                        3: ConstantCurrent(value=7),\n",
    "                        4: Dendrite(),\n",
    "                        5: LIF(\n",
    "                            tau=10,\n",
    "                            u_rest=-65,\n",
    "                            u_reset=-70,\n",
    "                            threshold=-32,\n",
    "                            R=5,\n",
    "                            u_init=\"normal(-60, 10)\",\n",
    "                        ),\n",
    "                        7: ActivityRecorder(),\n",
    "                        8: Recorder(variables=[\"u\", \"I\", \"activity\"], tag=\"ng2_rec\"),\n",
    "                        9: EventRecorder(variables=['spike'], tag=\"ng2_event\")\n",
    "                    }\n",
    "                )\n",
    "syn = SynapseGroup(net=net,\n",
    "                   tag=\"All\",\n",
    "                   src=pop1,\n",
    "                   dst=pop2,\n",
    "                   behavior={3: FullyConnectedSynapse(j0=25, variance=0.25)})\n",
    "\n",
    "net.initialize()\n",
    "net.simulate_iterations(iterations=200)"
   ],
   "metadata": {
    "collapsed": false,
    "ExecuteTime": {
     "start_time": "2024-03-27T20:49:56.691945Z",
     "end_time": "2024-03-27T20:49:56.908642Z"
    }
   }
  },
  {
   "cell_type": "code",
   "execution_count": null,
   "outputs": [],
   "source": [
    "plot_neuron_activity(net, \"ng1\", \"neuron activity for presynaptice neuron group\")\n",
    "plot_neuron_activity(net, \"ng2\", \"neuron activity for postsynaptic neuron group\")"
   ],
   "metadata": {
    "collapsed": false,
    "ExecuteTime": {
     "start_time": "2024-03-27T20:49:56.883918Z",
     "end_time": "2024-03-27T20:49:59.183844Z"
    }
   }
  },
  {
   "cell_type": "markdown",
   "source": [
    "#### 1.2.3 c) high j0 for weights"
   ],
   "metadata": {
    "collapsed": false
   }
  },
  {
   "cell_type": "code",
   "execution_count": null,
   "outputs": [],
   "source": [
    "net = Network(behavior={1: TimeResolution(dt=1.0), })\n",
    "pop1 = NeuronGroup(\n",
    "    net=net,\n",
    "    size=100,\n",
    "    behavior={\n",
    "        # 2: SetCurrent(value=100),\n",
    "        3: ConstantCurrent(value=7,\n",
    "                           noise_range=1),\n",
    "        4: Dendrite(),\n",
    "        5: LIF(\n",
    "            tau=10,\n",
    "            u_rest=-65,\n",
    "            u_reset=-70,\n",
    "            threshold=-32,\n",
    "            R=5,\n",
    "            u_init=\"normal(-60, 10)\",\n",
    "        ),\n",
    "        7: ActivityRecorder(),\n",
    "        8: Recorder(variables=[\"u\", \"I\", \"activity\"], tag=\"ng1_rec\"),\n",
    "        9: EventRecorder(variables=['spike'], tag=\"ng1_event\")\n",
    "    }\n",
    ")\n",
    "pop2 = NeuronGroup(\n",
    "                    net=net,\n",
    "                    size=100,\n",
    "                    behavior={\n",
    "                        # 2: SetCurrent(value=100),\n",
    "                        3: ConstantCurrent(value=7),\n",
    "                        4: Dendrite(),\n",
    "                        5: LIF(\n",
    "                            tau=10,\n",
    "                            u_rest=-65,\n",
    "                            u_reset=-70,\n",
    "                            threshold=-32,\n",
    "                            R=5,\n",
    "                            u_init=\"normal(-60, 10)\",\n",
    "                        ),\n",
    "                        7: ActivityRecorder(),\n",
    "                        8: Recorder(variables=[\"u\", \"I\", \"activity\"], tag=\"ng2_rec\"),\n",
    "                        9: EventRecorder(variables=['spike'], tag=\"ng2_event\")\n",
    "                    }\n",
    "                )\n",
    "syn = SynapseGroup(net=net,\n",
    "                   tag=\"All\",\n",
    "                   src=pop1,\n",
    "                   dst=pop2,\n",
    "                   behavior={3: FullyConnectedSynapse(j0=50, variance=0.25)})\n",
    "\n",
    "net.initialize()\n",
    "net.simulate_iterations(iterations=200)"
   ],
   "metadata": {
    "collapsed": false,
    "ExecuteTime": {
     "start_time": "2024-03-27T20:49:59.179599Z",
     "end_time": "2024-03-27T20:49:59.395605Z"
    }
   }
  },
  {
   "cell_type": "code",
   "execution_count": null,
   "outputs": [],
   "source": [
    "plot_neuron_activity(net, \"ng1\", \"neuron activity for presynaptice neuron group\")\n",
    "plot_neuron_activity(net, \"ng2\", \"neuron activity for postsynaptic neuron group\")"
   ],
   "metadata": {
    "collapsed": false,
    "ExecuteTime": {
     "start_time": "2024-03-27T20:49:59.396615Z",
     "end_time": "2024-03-27T20:50:01.837905Z"
    }
   }
  },
  {
   "cell_type": "markdown",
   "source": [
    "#### corollary:\n",
    "We learn that, either synapse in a single neuron group or synapse between two neuron groups, the lower variance causes that the spikes of postsynaptic neurons very depends on the spikes of presynaptic neurons. But, increasing the variance, causes that spike times vary more however they are around the spikes of presynaptic neurons.\n",
    "Also adding noise to input current or having different initial membrane potential, causes the same impact.\n",
    "\n",
    "Changing the j0,"
   ],
   "metadata": {
    "collapsed": false
   }
  },
  {
   "cell_type": "markdown",
   "source": [
    "# 2- Random coupling: Fixed coupling probability"
   ],
   "metadata": {
    "collapsed": false
   }
  },
  {
   "cell_type": "markdown",
   "source": [
    "Now expriment the random coupling with fixed coupling probability scheme for synapses. Because we've learnt the general imapct of j0 and variance, we focus in change in more specific parameters."
   ],
   "metadata": {
    "collapsed": false
   }
  },
  {
   "cell_type": "markdown",
   "source": [
    "## 2.1 Inside one neuron group synapse:\n",
    "Here we just experiment the different amount of p for two the situation not-noisy and noisy current and initial values."
   ],
   "metadata": {
    "collapsed": false
   }
  },
  {
   "cell_type": "markdown",
   "source": [
    "### 2.1.1 change in p"
   ],
   "metadata": {
    "collapsed": false
   }
  },
  {
   "cell_type": "markdown",
   "source": [
    "#### 2.1.1 a) low p"
   ],
   "metadata": {
    "collapsed": false
   }
  },
  {
   "cell_type": "code",
   "execution_count": null,
   "outputs": [],
   "source": [
    "net = Network(behavior={1: TimeResolution(dt=1.0), })\n",
    "pop1 = NeuronGroup(\n",
    "    net=net,\n",
    "    size=100,\n",
    "    behavior={\n",
    "        # 2: SetCurrent(value=100),\n",
    "        3: ConstantCurrent(value=7),\n",
    "        4: Dendrite(),\n",
    "        5: LIF(\n",
    "            tau=10,\n",
    "            u_rest=-65,\n",
    "            u_reset=-70,\n",
    "            threshold=-32,\n",
    "            R=5,\n",
    "            # u_init=\"normal(-60, 10)\",\n",
    "        ),\n",
    "        7: ActivityRecorder(),\n",
    "        8: Recorder(variables=[\"u\", \"I\", \"activity\"], tag=\"ng1_rec\"),\n",
    "        9: EventRecorder(variables=['spike'], tag=\"ng1_event\")\n",
    "    }\n",
    ")\n",
    "\n",
    "syn = SynapseGroup(net=net,\n",
    "                   tag=\"All\",\n",
    "                   src=pop1,\n",
    "                   dst=pop1,\n",
    "                   behavior={3: RandomConnectedFixedProbSynapse(j0=25, variance=0.25, p=0.2)})\n",
    "\n",
    "net.initialize()\n",
    "net.simulate_iterations(iterations=200)"
   ],
   "metadata": {
    "collapsed": false,
    "ExecuteTime": {
     "start_time": "2024-03-28T00:26:37.936246Z",
     "end_time": "2024-03-28T00:26:38.083597Z"
    }
   }
  },
  {
   "cell_type": "code",
   "execution_count": null,
   "outputs": [],
   "source": [
    "plot_neuron_activity(net, \"ng1\", \"neuron activity for presynaptice neuron group\")"
   ],
   "metadata": {
    "collapsed": false,
    "ExecuteTime": {
     "start_time": "2024-03-28T00:26:38.051379Z",
     "end_time": "2024-03-28T00:26:39.221151Z"
    }
   }
  },
  {
   "cell_type": "markdown",
   "source": [
    "#### 2.1.1 b) mid p"
   ],
   "metadata": {
    "collapsed": false
   }
  },
  {
   "cell_type": "code",
   "execution_count": null,
   "outputs": [],
   "source": [
    "net = Network(behavior={1: TimeResolution(dt=1.0), })\n",
    "pop1 = NeuronGroup(\n",
    "    net=net,\n",
    "    size=100,\n",
    "    behavior={\n",
    "        # 2: SetCurrent(value=100),\n",
    "        3: ConstantCurrent(value=7),\n",
    "        4: Dendrite(),\n",
    "        5: LIF(\n",
    "            tau=10,\n",
    "            u_rest=-65,\n",
    "            u_reset=-70,\n",
    "            threshold=-32,\n",
    "            R=5,\n",
    "            # u_init=\"normal(-60, 10)\",\n",
    "        ),\n",
    "        7: ActivityRecorder(),\n",
    "        8: Recorder(variables=[\"u\", \"I\", \"activity\"], tag=\"ng1_rec\"),\n",
    "        9: EventRecorder(variables=['spike'], tag=\"ng1_event\")\n",
    "    }\n",
    ")\n",
    "\n",
    "syn = SynapseGroup(net=net,\n",
    "                   tag=\"All\",\n",
    "                   src=pop1,\n",
    "                   dst=pop1,\n",
    "                   behavior={3: RandomConnectedFixedProbSynapse(j0=25, variance=0.25, p=0.5)})\n",
    "\n",
    "net.initialize()\n",
    "net.simulate_iterations(iterations=200)"
   ],
   "metadata": {
    "collapsed": false,
    "ExecuteTime": {
     "start_time": "2024-03-28T00:29:48.171657Z",
     "end_time": "2024-03-28T00:29:48.341409Z"
    }
   }
  },
  {
   "cell_type": "code",
   "execution_count": null,
   "outputs": [],
   "source": [
    "plot_neuron_activity(net, \"ng1\", \"neuron activity for presynaptice neuron group\")"
   ],
   "metadata": {
    "collapsed": false,
    "ExecuteTime": {
     "start_time": "2024-03-28T00:29:48.283866Z",
     "end_time": "2024-03-28T00:29:49.473087Z"
    }
   }
  },
  {
   "cell_type": "markdown",
   "source": [
    "#### 2.1.1 c) high p"
   ],
   "metadata": {
    "collapsed": false
   }
  },
  {
   "cell_type": "code",
   "execution_count": null,
   "outputs": [],
   "source": [
    "net = Network(behavior={1: TimeResolution(dt=1.0), })\n",
    "pop1 = NeuronGroup(\n",
    "    net=net,\n",
    "    size=100,\n",
    "    behavior={\n",
    "        # 2: SetCurrent(value=100),\n",
    "        3: ConstantCurrent(value=7),\n",
    "        4: Dendrite(),\n",
    "        5: LIF(\n",
    "            tau=10,\n",
    "            u_rest=-65,\n",
    "            u_reset=-70,\n",
    "            threshold=-32,\n",
    "            R=5,\n",
    "            # u_init=\"normal(-60, 10)\",\n",
    "        ),\n",
    "        7: ActivityRecorder(),\n",
    "        8: Recorder(variables=[\"u\", \"I\", \"activity\"], tag=\"ng1_rec\"),\n",
    "        9: EventRecorder(variables=['spike'], tag=\"ng1_event\")\n",
    "    }\n",
    ")\n",
    "\n",
    "syn = SynapseGroup(net=net,\n",
    "                   tag=\"All\",\n",
    "                   src=pop1,\n",
    "                   dst=pop1,\n",
    "                   behavior={3: RandomConnectedFixedProbSynapse(j0=25, variance=0.25, p=0.8)})\n",
    "\n",
    "net.initialize()\n",
    "net.simulate_iterations(iterations=200)"
   ],
   "metadata": {
    "collapsed": false,
    "ExecuteTime": {
     "start_time": "2024-03-28T00:30:29.899051Z",
     "end_time": "2024-03-28T00:30:30.083598Z"
    }
   }
  },
  {
   "cell_type": "code",
   "execution_count": null,
   "outputs": [],
   "source": [
    "plot_neuron_activity(net, \"ng1\", \"neuron activity for presynaptice neuron group\")"
   ],
   "metadata": {
    "collapsed": false,
    "ExecuteTime": {
     "start_time": "2024-03-28T00:30:30.045285Z",
     "end_time": "2024-03-28T00:30:31.103560Z"
    }
   }
  },
  {
   "cell_type": "markdown",
   "source": [
    "### 2.1.2 Change in p when neurons have different values in initial and noisy current:"
   ],
   "metadata": {
    "collapsed": false
   }
  },
  {
   "cell_type": "markdown",
   "source": [
    "#### 2.1.2 a) low p"
   ],
   "metadata": {
    "collapsed": false
   }
  },
  {
   "cell_type": "code",
   "execution_count": null,
   "outputs": [],
   "source": [
    "net = Network(behavior={1: TimeResolution(dt=1.0), })\n",
    "pop1 = NeuronGroup(\n",
    "    net=net,\n",
    "    size=100,\n",
    "    behavior={\n",
    "        # 2: SetCurrent(value=100),\n",
    "        3: ConstantCurrent(value=7,\n",
    "                           noisy_range=1),\n",
    "        4: Dendrite(),\n",
    "        5: LIF(\n",
    "            tau=10,\n",
    "            u_rest=-65,\n",
    "            u_reset=-70,\n",
    "            threshold=-32,\n",
    "            R=5,\n",
    "            u_init=\"normal(-60, 10)\",\n",
    "        ),\n",
    "        7: ActivityRecorder(),\n",
    "        8: Recorder(variables=[\"u\", \"I\", \"activity\"], tag=\"ng1_rec\"),\n",
    "        9: EventRecorder(variables=['spike'], tag=\"ng1_event\")\n",
    "    }\n",
    ")\n",
    "\n",
    "syn = SynapseGroup(net=net,\n",
    "                   tag=\"All\",\n",
    "                   src=pop1,\n",
    "                   dst=pop1,\n",
    "                   behavior={3: RandomConnectedFixedProbSynapse(j0=25, variance=0.25, p=0.2)})\n",
    "\n",
    "net.initialize()\n",
    "net.simulate_iterations(iterations=200)"
   ],
   "metadata": {
    "collapsed": false,
    "ExecuteTime": {
     "start_time": "2024-03-28T00:51:08.277882Z",
     "end_time": "2024-03-28T00:51:08.473237Z"
    }
   }
  },
  {
   "cell_type": "code",
   "execution_count": null,
   "outputs": [],
   "source": [
    "plot_neuron_activity(net, \"ng1\", \"neuron activity for inside-synapse neuron group\")"
   ],
   "metadata": {
    "collapsed": false,
    "ExecuteTime": {
     "start_time": "2024-03-28T00:51:08.391609Z",
     "end_time": "2024-03-28T00:51:09.642846Z"
    }
   }
  },
  {
   "cell_type": "markdown",
   "source": [
    "#### 2.1.2 b) mid p"
   ],
   "metadata": {
    "collapsed": false
   }
  },
  {
   "cell_type": "code",
   "execution_count": null,
   "outputs": [],
   "source": [
    "net = Network(behavior={1: TimeResolution(dt=1.0), })\n",
    "pop1 = NeuronGroup(\n",
    "    net=net,\n",
    "    size=100,\n",
    "    behavior={\n",
    "        # 2: SetCurrent(value=100),\n",
    "        3: ConstantCurrent(value=7,\n",
    "                           noisy_range=1),\n",
    "        4: Dendrite(),\n",
    "        5: LIF(\n",
    "            tau=10,\n",
    "            u_rest=-65,\n",
    "            u_reset=-70,\n",
    "            threshold=-32,\n",
    "            R=5,\n",
    "            u_init=\"normal(-60, 10)\",\n",
    "        ),\n",
    "        7: ActivityRecorder(),\n",
    "        8: Recorder(variables=[\"u\", \"I\", \"activity\"], tag=\"ng1_rec\"),\n",
    "        9: EventRecorder(variables=['spike'], tag=\"ng1_event\")\n",
    "    }\n",
    ")\n",
    "\n",
    "syn = SynapseGroup(net=net,\n",
    "                   tag=\"All\",\n",
    "                   src=pop1,\n",
    "                   dst=pop1,\n",
    "                   behavior={3: RandomConnectedFixedProbSynapse(j0=25, variance=0.25, p=0.5)})\n",
    "\n",
    "net.initialize()\n",
    "net.simulate_iterations(iterations=200)"
   ],
   "metadata": {
    "collapsed": false,
    "ExecuteTime": {
     "start_time": "2024-03-28T00:52:13.851719Z",
     "end_time": "2024-03-28T00:52:14.022985Z"
    }
   }
  },
  {
   "cell_type": "code",
   "execution_count": null,
   "outputs": [],
   "source": [
    "plot_neuron_activity(net, \"ng1\", \"neuron activity for inside-synapse neuron group\")"
   ],
   "metadata": {
    "collapsed": false,
    "ExecuteTime": {
     "start_time": "2024-03-28T00:52:13.963328Z",
     "end_time": "2024-03-28T00:52:15.304668Z"
    }
   }
  },
  {
   "cell_type": "markdown",
   "source": [
    "#### 2.1.2 c) high p"
   ],
   "metadata": {
    "collapsed": false
   }
  },
  {
   "cell_type": "code",
   "execution_count": null,
   "outputs": [],
   "source": [
    "net = Network(behavior={1: TimeResolution(dt=1.0), })\n",
    "pop1 = NeuronGroup(\n",
    "    net=net,\n",
    "    size=100,\n",
    "    behavior={\n",
    "        # 2: SetCurrent(value=100),\n",
    "        3: ConstantCurrent(value=7,\n",
    "                           noisy_range=1),\n",
    "        4: Dendrite(),\n",
    "        5: LIF(\n",
    "            tau=10,\n",
    "            u_rest=-65,\n",
    "            u_reset=-70,\n",
    "            threshold=-32,\n",
    "            R=5,\n",
    "            u_init=\"normal(-60, 10)\",\n",
    "        ),\n",
    "        7: ActivityRecorder(),\n",
    "        8: Recorder(variables=[\"u\", \"I\", \"activity\"], tag=\"ng1_rec\"),\n",
    "        9: EventRecorder(variables=['spike'], tag=\"ng1_event\")\n",
    "    }\n",
    ")\n",
    "\n",
    "syn = SynapseGroup(net=net,\n",
    "                   tag=\"All\",\n",
    "                   src=pop1,\n",
    "                   dst=pop1,\n",
    "                   behavior={3: RandomConnectedFixedProbSynapse(j0=25, variance=0.25, p=0.8)})\n",
    "\n",
    "net.initialize()\n",
    "net.simulate_iterations(iterations=200)"
   ],
   "metadata": {
    "collapsed": false,
    "ExecuteTime": {
     "start_time": "2024-03-28T00:52:41.622818Z",
     "end_time": "2024-03-28T00:52:41.788643Z"
    }
   }
  },
  {
   "cell_type": "code",
   "execution_count": null,
   "outputs": [],
   "source": [
    "plot_neuron_activity(net, \"ng1\", \"neuron activity for inside-synapse neuron group\")"
   ],
   "metadata": {
    "collapsed": false,
    "ExecuteTime": {
     "start_time": "2024-03-28T00:52:41.737247Z",
     "end_time": "2024-03-28T00:52:42.953129Z"
    }
   }
  },
  {
   "cell_type": "markdown",
   "source": [
    "As we see, intrestingly, increasing p causes less randomness"
   ],
   "metadata": {
    "collapsed": false
   }
  },
  {
   "cell_type": "markdown",
   "source": [
    "We won't experiment different values for parameters j0 and variance since their impact are the same as previous section."
   ],
   "metadata": {
    "collapsed": false
   }
  },
  {
   "cell_type": "markdown",
   "source": [
    "## 2.2 Synapse between two groups:\n",
    "Now let's create a synapse between two groups of neurons. First, we test when there's no noise and all neurons begin with the same membrane potential. Now we change parameters of synapse to see results. For example, we test the population with a low amount of p=0.2, mid p=0.5 and high p=0.8"
   ],
   "metadata": {
    "collapsed": false
   }
  },
  {
   "cell_type": "markdown",
   "source": [
    "### 2.2.1 change in p"
   ],
   "metadata": {
    "collapsed": false
   }
  },
  {
   "cell_type": "markdown",
   "source": [
    "#### 2.2.1 a) low p"
   ],
   "metadata": {
    "collapsed": false
   }
  },
  {
   "cell_type": "code",
   "execution_count": null,
   "outputs": [],
   "source": [
    "net = Network(behavior={1: TimeResolution(dt=1.0), })\n",
    "pop1 = NeuronGroup(\n",
    "    net=net,\n",
    "    size=100,\n",
    "    behavior={\n",
    "        # 2: SetCurrent(value=100),\n",
    "        3: ConstantCurrent(value=7),\n",
    "        4: Dendrite(),\n",
    "        5: LIF(\n",
    "            tau=10,\n",
    "            u_rest=-65,\n",
    "            u_reset=-70,\n",
    "            threshold=-32,\n",
    "            R=5,\n",
    "            # u_init=\"normal(-60, 10)\",\n",
    "        ),\n",
    "        7: ActivityRecorder(),\n",
    "        8: Recorder(variables=[\"u\", \"I\", \"activity\"], tag=\"ng1_rec\"),\n",
    "        9: EventRecorder(variables=['spike'], tag=\"ng1_event\")\n",
    "    }\n",
    ")\n",
    "pop2 = NeuronGroup(\n",
    "                    net=net,\n",
    "                    size=100,\n",
    "                    behavior={\n",
    "                        # 2: SetCurrent(value=100),\n",
    "                        3: ConstantCurrent(value=7),\n",
    "                        4: Dendrite(),\n",
    "                        5: LIF(\n",
    "                            tau=10,\n",
    "                            u_rest=-65,\n",
    "                            u_reset=-70,\n",
    "                            threshold=-32,\n",
    "                            R=5,\n",
    "                            # u_init=\"normal(-60, 10)\",\n",
    "                        ),\n",
    "                        7: ActivityRecorder(),\n",
    "                        8: Recorder(variables=[\"u\", \"I\", \"activity\"], tag=\"ng2_rec\"),\n",
    "                        9: EventRecorder(variables=['spike'], tag=\"ng2_event\")\n",
    "                    }\n",
    "                )\n",
    "syn = SynapseGroup(net=net,\n",
    "                   tag=\"All\",\n",
    "                   src=pop1,\n",
    "                   dst=pop2,\n",
    "                   behavior={3: RandomConnectedFixedProbSynapse(j0=25, variance=0.25, p=0.2)})\n",
    "\n",
    "net.initialize()\n",
    "net.simulate_iterations(iterations=200)"
   ],
   "metadata": {
    "collapsed": false,
    "ExecuteTime": {
     "start_time": "2024-03-28T00:59:37.735646Z",
     "end_time": "2024-03-28T00:59:38.181552Z"
    }
   }
  },
  {
   "cell_type": "code",
   "execution_count": null,
   "outputs": [],
   "source": [
    "plot_neuron_activity(net, \"ng1\", \"neuron activity for presynaptice neuron group\")\n",
    "plot_neuron_activity(net, \"ng2\", \"neuron activity for postsynaptic neuron group\")"
   ],
   "metadata": {
    "collapsed": false,
    "ExecuteTime": {
     "start_time": "2024-03-28T00:59:37.932005Z",
     "end_time": "2024-03-28T00:59:40.869323Z"
    }
   }
  },
  {
   "cell_type": "markdown",
   "source": [
    "#### 2.2.1 b) mid p"
   ],
   "metadata": {
    "collapsed": false
   }
  },
  {
   "cell_type": "code",
   "execution_count": null,
   "outputs": [],
   "source": [
    "net = Network(behavior={1: TimeResolution(dt=1.0), })\n",
    "pop1 = NeuronGroup(\n",
    "    net=net,\n",
    "    size=100,\n",
    "    behavior={\n",
    "        # 2: SetCurrent(value=100),\n",
    "        3: ConstantCurrent(value=7),\n",
    "        4: Dendrite(),\n",
    "        5: LIF(\n",
    "            tau=10,\n",
    "            u_rest=-65,\n",
    "            u_reset=-70,\n",
    "            threshold=-32,\n",
    "            R=5,\n",
    "            # u_init=\"normal(-60, 10)\",\n",
    "        ),\n",
    "        7: ActivityRecorder(),\n",
    "        8: Recorder(variables=[\"u\", \"I\", \"activity\"], tag=\"ng1_rec\"),\n",
    "        9: EventRecorder(variables=['spike'], tag=\"ng1_event\")\n",
    "    }\n",
    ")\n",
    "pop2 = NeuronGroup(\n",
    "    net=net,\n",
    "    size=100,\n",
    "    behavior={\n",
    "        # 2: SetCurrent(value=100),\n",
    "        3: ConstantCurrent(value=7),\n",
    "        4: Dendrite(),\n",
    "        5: LIF(\n",
    "            tau=10,\n",
    "            u_rest=-65,\n",
    "            u_reset=-70,\n",
    "            threshold=-32,\n",
    "            R=5,\n",
    "            # u_init=\"normal(-60, 10)\",\n",
    "        ),\n",
    "        7: ActivityRecorder(),\n",
    "        8: Recorder(variables=[\"u\", \"I\", \"activity\"], tag=\"ng2_rec\"),\n",
    "        9: EventRecorder(variables=['spike'], tag=\"ng2_event\")\n",
    "    }\n",
    ")\n",
    "syn = SynapseGroup(net=net,\n",
    "                   tag=\"All\",\n",
    "                   src=pop1,\n",
    "                   dst=pop2,\n",
    "                   behavior={3: RandomConnectedFixedProbSynapse(j0=25, variance=0.25, p=0.5)})\n",
    "\n",
    "net.initialize()\n",
    "net.simulate_iterations(iterations=200)"
   ],
   "metadata": {
    "collapsed": false,
    "ExecuteTime": {
     "start_time": "2024-03-28T01:27:57.755482Z",
     "end_time": "2024-03-28T01:27:57.956617Z"
    }
   }
  },
  {
   "cell_type": "code",
   "execution_count": null,
   "outputs": [],
   "source": [
    "plot_neuron_activity(net, \"ng1\", \"neuron activity for presynaptice neuron group\")\n",
    "plot_neuron_activity(net, \"ng2\", \"neuron activity for postsynaptic neuron group\")"
   ],
   "metadata": {
    "collapsed": false,
    "ExecuteTime": {
     "start_time": "2024-03-28T01:27:57.963489Z",
     "end_time": "2024-03-28T01:28:00.734859Z"
    }
   }
  },
  {
   "cell_type": "markdown",
   "source": [
    "#### 2.2.1 c) high p"
   ],
   "metadata": {
    "collapsed": false
   }
  },
  {
   "cell_type": "code",
   "execution_count": null,
   "outputs": [],
   "source": [
    "net = Network(behavior={1: TimeResolution(dt=1.0), })\n",
    "pop1 = NeuronGroup(\n",
    "    net=net,\n",
    "    size=100,\n",
    "    behavior={\n",
    "        # 2: SetCurrent(value=100),\n",
    "        3: ConstantCurrent(value=7),\n",
    "        4: Dendrite(),\n",
    "        5: LIF(\n",
    "            tau=10,\n",
    "            u_rest=-65,\n",
    "            u_reset=-70,\n",
    "            threshold=-32,\n",
    "            R=5,\n",
    "            # u_init=\"normal(-60, 10)\",\n",
    "        ),\n",
    "        7: ActivityRecorder(),\n",
    "        8: Recorder(variables=[\"u\", \"I\", \"activity\"], tag=\"ng1_rec\"),\n",
    "        9: EventRecorder(variables=['spike'], tag=\"ng1_event\")\n",
    "    }\n",
    ")\n",
    "pop2 = NeuronGroup(\n",
    "    net=net,\n",
    "    size=100,\n",
    "    behavior={\n",
    "        # 2: SetCurrent(value=100),\n",
    "        3: ConstantCurrent(value=7),\n",
    "        4: Dendrite(),\n",
    "        5: LIF(\n",
    "            tau=10,\n",
    "            u_rest=-65,\n",
    "            u_reset=-70,\n",
    "            threshold=-32,\n",
    "            R=5,\n",
    "            # u_init=\"normal(-60, 10)\",\n",
    "        ),\n",
    "        7: ActivityRecorder(),\n",
    "        8: Recorder(variables=[\"u\", \"I\", \"activity\"], tag=\"ng2_rec\"),\n",
    "        9: EventRecorder(variables=['spike'], tag=\"ng2_event\")\n",
    "    }\n",
    ")\n",
    "syn = SynapseGroup(net=net,\n",
    "                   tag=\"All\",\n",
    "                   src=pop1,\n",
    "                   dst=pop2,\n",
    "                   behavior={3: RandomConnectedFixedProbSynapse(j0=25, variance=0.25, p=0.9)})\n",
    "\n",
    "net.initialize()\n",
    "net.simulate_iterations(iterations=200)"
   ],
   "metadata": {
    "collapsed": false,
    "ExecuteTime": {
     "start_time": "2024-03-28T01:29:50.863770Z",
     "end_time": "2024-03-28T01:29:51.065783Z"
    }
   }
  },
  {
   "cell_type": "code",
   "execution_count": null,
   "outputs": [],
   "source": [
    "plot_neuron_activity(net, \"ng1\", \"neuron activity for presynaptice neuron group\")\n",
    "plot_neuron_activity(net, \"ng2\", \"neuron activity for postsynaptic neuron group\")"
   ],
   "metadata": {
    "collapsed": false,
    "ExecuteTime": {
     "start_time": "2024-03-28T01:29:51.072025Z",
     "end_time": "2024-03-28T01:29:54.487106Z"
    }
   }
  },
  {
   "cell_type": "markdown",
   "source": [
    "### 2.2.2 Change in p when neurons have different values in initial and noisy current:"
   ],
   "metadata": {
    "collapsed": false
   }
  },
  {
   "cell_type": "markdown",
   "source": [
    "#### 2.2.2 a) low p"
   ],
   "metadata": {
    "collapsed": false
   }
  },
  {
   "cell_type": "code",
   "execution_count": null,
   "outputs": [],
   "source": [
    "net = Network(behavior={1: TimeResolution(dt=1.0), })\n",
    "pop1 = NeuronGroup(\n",
    "    net=net,\n",
    "    size=100,\n",
    "    behavior={\n",
    "        # 2: SetCurrent(value=100),\n",
    "        3: ConstantCurrent(value=7,\n",
    "                           noise_range=1),\n",
    "        4: Dendrite(),\n",
    "        5: LIF(\n",
    "            tau=10,\n",
    "            u_rest=-65,\n",
    "            u_reset=-70,\n",
    "            threshold=-32,\n",
    "            R=5,\n",
    "            u_init=\"normal(-60, 10)\",\n",
    "        ),\n",
    "        7: ActivityRecorder(),\n",
    "        8: Recorder(variables=[\"u\", \"I\", \"activity\"], tag=\"ng1_rec\"),\n",
    "        9: EventRecorder(variables=['spike'], tag=\"ng1_event\")\n",
    "    }\n",
    ")\n",
    "pop2 = NeuronGroup(\n",
    "    net=net,\n",
    "    size=100,\n",
    "    behavior={\n",
    "        # 2: SetCurrent(value=100),\n",
    "        3: ConstantCurrent(value=7,\n",
    "                           noise_range=1),\n",
    "        4: Dendrite(),\n",
    "        5: LIF(\n",
    "            tau=10,\n",
    "            u_rest=-65,\n",
    "            u_reset=-70,\n",
    "            threshold=-32,\n",
    "            R=5,\n",
    "            u_init=\"normal(-60, 10)\",\n",
    "        ),\n",
    "        7: ActivityRecorder(),\n",
    "        8: Recorder(variables=[\"u\", \"I\", \"activity\"], tag=\"ng2_rec\"),\n",
    "        9: EventRecorder(variables=['spike'], tag=\"ng2_event\")\n",
    "    }\n",
    ")\n",
    "syn = SynapseGroup(net=net,\n",
    "                   tag=\"All\",\n",
    "                   src=pop1,\n",
    "                   dst=pop2,\n",
    "                   behavior={3: RandomConnectedFixedProbSynapse(j0=25, variance=0.25, p=0.2)})\n",
    "\n",
    "net.initialize()\n",
    "net.simulate_iterations(iterations=200)"
   ],
   "metadata": {
    "collapsed": false,
    "ExecuteTime": {
     "start_time": "2024-03-28T01:32:09.445242Z",
     "end_time": "2024-03-28T01:32:09.638507Z"
    }
   }
  },
  {
   "cell_type": "code",
   "execution_count": null,
   "outputs": [],
   "source": [
    "plot_neuron_activity(net, \"ng1\", \"neuron activity for presynaptice neuron group\")\n",
    "plot_neuron_activity(net, \"ng2\", \"neuron activity for postsynaptic neuron group\")"
   ],
   "metadata": {
    "collapsed": false,
    "ExecuteTime": {
     "start_time": "2024-03-28T01:32:20.176329Z",
     "end_time": "2024-03-28T01:32:22.639565Z"
    }
   }
  },
  {
   "cell_type": "markdown",
   "source": [
    "#### 2.2.2 b) mid p"
   ],
   "metadata": {
    "collapsed": false
   }
  },
  {
   "cell_type": "code",
   "execution_count": null,
   "outputs": [],
   "source": [
    "net = Network(behavior={1: TimeResolution(dt=1.0), })\n",
    "pop1 = NeuronGroup(\n",
    "    net=net,\n",
    "    size=100,\n",
    "    behavior={\n",
    "        # 2: SetCurrent(value=100),\n",
    "        3: ConstantCurrent(value=7,\n",
    "                           noise_range=1),\n",
    "        4: Dendrite(),\n",
    "        5: LIF(\n",
    "            tau=10,\n",
    "            u_rest=-65,\n",
    "            u_reset=-70,\n",
    "            threshold=-32,\n",
    "            R=5,\n",
    "            u_init=\"normal(-60, 10)\",\n",
    "        ),\n",
    "        7: ActivityRecorder(),\n",
    "        8: Recorder(variables=[\"u\", \"I\", \"activity\"], tag=\"ng1_rec\"),\n",
    "        9: EventRecorder(variables=['spike'], tag=\"ng1_event\")\n",
    "    }\n",
    ")\n",
    "pop2 = NeuronGroup(\n",
    "    net=net,\n",
    "    size=100,\n",
    "    behavior={\n",
    "        # 2: SetCurrent(value=100),\n",
    "        3: ConstantCurrent(value=7,\n",
    "                           noise_range=1),\n",
    "        4: Dendrite(),\n",
    "        5: LIF(\n",
    "            tau=10,\n",
    "            u_rest=-65,\n",
    "            u_reset=-70,\n",
    "            threshold=-32,\n",
    "            R=5,\n",
    "            u_init=\"normal(-60, 10)\",\n",
    "        ),\n",
    "        7: ActivityRecorder(),\n",
    "        8: Recorder(variables=[\"u\", \"I\", \"activity\"], tag=\"ng2_rec\"),\n",
    "        9: EventRecorder(variables=['spike'], tag=\"ng2_event\")\n",
    "    }\n",
    ")\n",
    "syn = SynapseGroup(net=net,\n",
    "                   tag=\"All\",\n",
    "                   src=pop1,\n",
    "                   dst=pop2,\n",
    "                   behavior={3: RandomConnectedFixedProbSynapse(j0=25, variance=0.25, p=0.5)})\n",
    "\n",
    "net.initialize()\n",
    "net.simulate_iterations(iterations=200)"
   ],
   "metadata": {
    "collapsed": false,
    "ExecuteTime": {
     "start_time": "2024-03-28T01:33:44.581601Z",
     "end_time": "2024-03-28T01:33:44.787479Z"
    }
   }
  },
  {
   "cell_type": "code",
   "execution_count": null,
   "outputs": [],
   "source": [
    "plot_neuron_activity(net, \"ng1\", \"neuron activity for presynaptice neuron group\")\n",
    "plot_neuron_activity(net, \"ng2\", \"neuron activity for postsynaptic neuron group\")"
   ],
   "metadata": {
    "collapsed": false,
    "ExecuteTime": {
     "start_time": "2024-03-28T01:33:44.797835Z",
     "end_time": "2024-03-28T01:33:47.521011Z"
    }
   }
  },
  {
   "cell_type": "markdown",
   "source": [
    "#### 2.2.2 b) high p"
   ],
   "metadata": {
    "collapsed": false
   }
  },
  {
   "cell_type": "code",
   "execution_count": null,
   "outputs": [],
   "source": [
    "net = Network(behavior={1: TimeResolution(dt=1.0), })\n",
    "pop1 = NeuronGroup(\n",
    "    net=net,\n",
    "    size=100,\n",
    "    behavior={\n",
    "        # 2: SetCurrent(value=100),\n",
    "        3: ConstantCurrent(value=7,\n",
    "                           noise_range=1),\n",
    "        4: Dendrite(),\n",
    "        5: LIF(\n",
    "            tau=10,\n",
    "            u_rest=-65,\n",
    "            u_reset=-70,\n",
    "            threshold=-32,\n",
    "            R=5,\n",
    "            u_init=\"normal(-60, 10)\",\n",
    "        ),\n",
    "        7: ActivityRecorder(),\n",
    "        8: Recorder(variables=[\"u\", \"I\", \"activity\"], tag=\"ng1_rec\"),\n",
    "        9: EventRecorder(variables=['spike'], tag=\"ng1_event\")\n",
    "    }\n",
    ")\n",
    "pop2 = NeuronGroup(\n",
    "    net=net,\n",
    "    size=100,\n",
    "    behavior={\n",
    "        # 2: SetCurrent(value=100),\n",
    "        3: ConstantCurrent(value=7,\n",
    "                           noise_range=1),\n",
    "        4: Dendrite(),\n",
    "        5: LIF(\n",
    "            tau=10,\n",
    "            u_rest=-65,\n",
    "            u_reset=-70,\n",
    "            threshold=-32,\n",
    "            R=5,\n",
    "            u_init=\"normal(-60, 10)\",\n",
    "        ),\n",
    "        7: ActivityRecorder(),\n",
    "        8: Recorder(variables=[\"u\", \"I\", \"activity\"], tag=\"ng2_rec\"),\n",
    "        9: EventRecorder(variables=['spike'], tag=\"ng2_event\")\n",
    "    }\n",
    ")\n",
    "syn = SynapseGroup(net=net,\n",
    "                   tag=\"All\",\n",
    "                   src=pop1,\n",
    "                   dst=pop2,\n",
    "                   behavior={3: RandomConnectedFixedProbSynapse(j0=25, variance=0.25, p=0.8)})\n",
    "\n",
    "net.initialize()\n",
    "net.simulate_iterations(iterations=200)"
   ],
   "metadata": {
    "collapsed": false,
    "ExecuteTime": {
     "start_time": "2024-03-28T01:34:35.023427Z",
     "end_time": "2024-03-28T01:34:35.210949Z"
    }
   }
  },
  {
   "cell_type": "code",
   "execution_count": null,
   "outputs": [],
   "source": [
    "plot_neuron_activity(net, \"ng1\", \"neuron activity for presynaptice neuron group\")\n",
    "plot_neuron_activity(net, \"ng2\", \"neuron activity for postsynaptic neuron group\")"
   ],
   "metadata": {
    "collapsed": false,
    "ExecuteTime": {
     "start_time": "2024-03-28T01:34:35.218608Z",
     "end_time": "2024-03-28T01:34:37.860556Z"
    }
   }
  },
  {
   "cell_type": "markdown",
   "source": [
    "# 3- Random coupling: Fixed number of presynaptic partners"
   ],
   "metadata": {
    "collapsed": false
   }
  },
  {
   "cell_type": "markdown",
   "source": [
    "Now expriment the random coupling with fixed number of presynaptic partners scheme for synapses. Because we've learnt the general imapct of j0 and variance, we focus in change in more specific parameters."
   ],
   "metadata": {
    "collapsed": false
   }
  },
  {
   "cell_type": "markdown",
   "source": [
    "## 3.1 Inside one neuron group synapse:\n",
    "Here we just experiment the different amount of p for two the situation not-noisy and noisy current and initial values."
   ],
   "metadata": {
    "collapsed": false
   }
  },
  {
   "cell_type": "markdown",
   "source": [
    "### 3.1.1 change in n"
   ],
   "metadata": {
    "collapsed": false
   }
  },
  {
   "cell_type": "markdown",
   "source": [
    "#### 3.1.1 a) low n\n"
   ],
   "metadata": {
    "collapsed": false
   }
  },
  {
   "cell_type": "code",
   "execution_count": null,
   "outputs": [],
   "source": [
    "net = Network(behavior={1: TimeResolution(dt=1.0), })\n",
    "pop1 = NeuronGroup(\n",
    "    net=net,\n",
    "    size=100,\n",
    "    behavior={\n",
    "        # 2: SetCurrent(value=100),\n",
    "        3: ConstantCurrent(value=7),\n",
    "        4: Dendrite(),\n",
    "        5: LIF(\n",
    "            tau=10,\n",
    "            u_rest=-65,\n",
    "            u_reset=-70,\n",
    "            threshold=-32,\n",
    "            R=5,\n",
    "            # u_init=\"normal(-60, 10)\",\n",
    "        ),\n",
    "        7: ActivityRecorder(),\n",
    "        8: Recorder(variables=[\"u\", \"I\", \"activity\"], tag=\"ng1_rec\"),\n",
    "        9: EventRecorder(variables=['spike'], tag=\"ng1_event\")\n",
    "    }\n",
    ")\n",
    "syn = SynapseGroup(net=net,\n",
    "                   tag=\"All\",\n",
    "                   src=pop1,\n",
    "                   dst=pop1,\n",
    "                   behavior={3: RandomConnectedFixedInputSynapse(j0=25, variance=0.25, n=10)})\n",
    "\n",
    "net.initialize()\n",
    "net.simulate_iterations(iterations=200)"
   ],
   "metadata": {
    "collapsed": false,
    "ExecuteTime": {
     "start_time": "2024-03-28T01:41:20.969541Z",
     "end_time": "2024-03-28T01:41:21.080528Z"
    }
   }
  },
  {
   "cell_type": "code",
   "execution_count": null,
   "outputs": [],
   "source": [
    "plot_neuron_activity(net, \"ng1\", \"neuron activity for one inside-synapse neuron group\")"
   ],
   "metadata": {
    "collapsed": false,
    "ExecuteTime": {
     "start_time": "2024-03-28T01:41:21.081706Z",
     "end_time": "2024-03-28T01:41:23.113490Z"
    }
   }
  },
  {
   "cell_type": "markdown",
   "source": [
    "#### 3.1.1 b) mid n"
   ],
   "metadata": {
    "collapsed": false
   }
  },
  {
   "cell_type": "code",
   "execution_count": null,
   "outputs": [],
   "source": [
    "net = Network(behavior={1: TimeResolution(dt=1.0), })\n",
    "pop1 = NeuronGroup(\n",
    "    net=net,\n",
    "    size=100,\n",
    "    behavior={\n",
    "        # 2: SetCurrent(value=100),\n",
    "        3: ConstantCurrent(value=7),\n",
    "        4: Dendrite(),\n",
    "        5: LIF(\n",
    "            tau=10,\n",
    "            u_rest=-65,\n",
    "            u_reset=-70,\n",
    "            threshold=-32,\n",
    "            R=5,\n",
    "            # u_init=\"normal(-60, 10)\",\n",
    "        ),\n",
    "        7: ActivityRecorder(),\n",
    "        8: Recorder(variables=[\"u\", \"I\", \"activity\"], tag=\"ng1_rec\"),\n",
    "        9: EventRecorder(variables=['spike'], tag=\"ng1_event\")\n",
    "    }\n",
    ")\n",
    "syn = SynapseGroup(net=net,\n",
    "                   tag=\"All\",\n",
    "                   src=pop1,\n",
    "                   dst=pop1,\n",
    "                   behavior={3: RandomConnectedFixedInputSynapse(j0=25, variance=0.25, n=50)})\n",
    "\n",
    "net.initialize()\n",
    "net.simulate_iterations(iterations=200)"
   ],
   "metadata": {
    "collapsed": false,
    "ExecuteTime": {
     "start_time": "2024-03-28T01:42:52.943852Z",
     "end_time": "2024-03-28T01:42:53.065879Z"
    }
   }
  },
  {
   "cell_type": "code",
   "execution_count": null,
   "outputs": [],
   "source": [
    "plot_neuron_activity(net, \"ng1\", \"neuron activity for one inside-synapse neuron group\")"
   ],
   "metadata": {
    "collapsed": false,
    "ExecuteTime": {
     "start_time": "2024-03-28T01:42:53.065460Z",
     "end_time": "2024-03-28T01:42:55.198086Z"
    }
   }
  },
  {
   "cell_type": "markdown",
   "source": [
    "#### 3.1.1 c) high n"
   ],
   "metadata": {
    "collapsed": false
   }
  },
  {
   "cell_type": "code",
   "execution_count": null,
   "outputs": [],
   "source": [
    "net = Network(behavior={1: TimeResolution(dt=1.0), })\n",
    "pop1 = NeuronGroup(\n",
    "    net=net,\n",
    "    size=100,\n",
    "    behavior={\n",
    "        # 2: SetCurrent(value=100),\n",
    "        3: ConstantCurrent(value=7),\n",
    "        4: Dendrite(),\n",
    "        5: LIF(\n",
    "            tau=10,\n",
    "            u_rest=-65,\n",
    "            u_reset=-70,\n",
    "            threshold=-32,\n",
    "            R=5,\n",
    "            # u_init=\"normal(-60, 10)\",\n",
    "        ),\n",
    "        7: ActivityRecorder(),\n",
    "        8: Recorder(variables=[\"u\", \"I\", \"activity\"], tag=\"ng1_rec\"),\n",
    "        9: EventRecorder(variables=['spike'], tag=\"ng1_event\")\n",
    "    }\n",
    ")\n",
    "syn = SynapseGroup(net=net,\n",
    "                   tag=\"All\",\n",
    "                   src=pop1,\n",
    "                   dst=pop1,\n",
    "                   behavior={3: RandomConnectedFixedInputSynapse(j0=25, variance=0.25, n=90)})\n",
    "\n",
    "net.initialize()\n",
    "net.simulate_iterations(iterations=200)"
   ],
   "metadata": {
    "collapsed": false,
    "ExecuteTime": {
     "start_time": "2024-03-28T01:44:55.756852Z",
     "end_time": "2024-03-28T01:44:55.879409Z"
    }
   }
  },
  {
   "cell_type": "code",
   "execution_count": null,
   "outputs": [],
   "source": [
    "plot_neuron_activity(net, \"ng1\", \"neuron activity for one inside-synapse neuron group\")"
   ],
   "metadata": {
    "collapsed": false,
    "ExecuteTime": {
     "start_time": "2024-03-28T01:44:55.890324Z",
     "end_time": "2024-03-28T01:44:57.668370Z"
    }
   }
  },
  {
   "cell_type": "markdown",
   "source": [
    "### 3.1.2 Change in n when neurons have different values in initial and noisy current:"
   ],
   "metadata": {
    "collapsed": false
   }
  },
  {
   "cell_type": "markdown",
   "source": [
    "#### 3.1.2 a) low n"
   ],
   "metadata": {
    "collapsed": false
   }
  },
  {
   "cell_type": "code",
   "execution_count": null,
   "outputs": [],
   "source": [
    "net = Network(behavior={1: TimeResolution(dt=1.0), })\n",
    "pop1 = NeuronGroup(\n",
    "    net=net,\n",
    "    size=100,\n",
    "    behavior={\n",
    "        # 2: SetCurrent(value=100),\n",
    "        3: ConstantCurrent(value=7,\n",
    "                           noise_range=1),\n",
    "        4: Dendrite(),\n",
    "        5: LIF(\n",
    "            tau=10,\n",
    "            u_rest=-65,\n",
    "            u_reset=-70,\n",
    "            threshold=-32,\n",
    "            R=5,\n",
    "            u_init=\"normal(-60, 10)\",\n",
    "        ),\n",
    "        7: ActivityRecorder(),\n",
    "        8: Recorder(variables=[\"u\", \"I\", \"activity\"], tag=\"ng1_rec\"),\n",
    "        9: EventRecorder(variables=['spike'], tag=\"ng1_event\")\n",
    "    }\n",
    ")\n",
    "syn = SynapseGroup(net=net,\n",
    "                   tag=\"All\",\n",
    "                   src=pop1,\n",
    "                   dst=pop1,\n",
    "                   behavior={3: RandomConnectedFixedInputSynapse(j0=25, variance=0.25, n=10)})\n",
    "\n",
    "net.initialize()\n",
    "net.simulate_iterations(iterations=200)"
   ],
   "metadata": {
    "collapsed": false,
    "ExecuteTime": {
     "start_time": "2024-03-28T01:46:28.736973Z",
     "end_time": "2024-03-28T01:46:28.854636Z"
    }
   }
  },
  {
   "cell_type": "code",
   "execution_count": null,
   "outputs": [],
   "source": [
    "plot_neuron_activity(net, \"ng1\", \"neuron activity for one inside-synapse neuron group\")"
   ],
   "metadata": {
    "collapsed": false,
    "ExecuteTime": {
     "start_time": "2024-03-28T01:46:28.854064Z",
     "end_time": "2024-03-28T01:46:30.838655Z"
    }
   }
  },
  {
   "cell_type": "markdown",
   "source": [
    "#### 3.1.2 b) mid n"
   ],
   "metadata": {
    "collapsed": false
   }
  },
  {
   "cell_type": "code",
   "execution_count": null,
   "outputs": [],
   "source": [
    "net = Network(behavior={1: TimeResolution(dt=1.0), })\n",
    "pop1 = NeuronGroup(\n",
    "    net=net,\n",
    "    size=100,\n",
    "    behavior={\n",
    "        # 2: SetCurrent(value=100),\n",
    "        3: ConstantCurrent(value=7,\n",
    "                           noise_range=1),\n",
    "        4: Dendrite(),\n",
    "        5: LIF(\n",
    "            tau=10,\n",
    "            u_rest=-65,\n",
    "            u_reset=-70,\n",
    "            threshold=-32,\n",
    "            R=5,\n",
    "            u_init=\"normal(-60, 10)\",\n",
    "        ),\n",
    "        7: ActivityRecorder(),\n",
    "        8: Recorder(variables=[\"u\", \"I\", \"activity\"], tag=\"ng1_rec\"),\n",
    "        9: EventRecorder(variables=['spike'], tag=\"ng1_event\")\n",
    "    }\n",
    ")\n",
    "syn = SynapseGroup(net=net,\n",
    "                   tag=\"All\",\n",
    "                   src=pop1,\n",
    "                   dst=pop1,\n",
    "                   behavior={3: RandomConnectedFixedInputSynapse(j0=25, variance=0.25, n=50)})\n",
    "\n",
    "net.initialize()\n",
    "net.simulate_iterations(iterations=200)"
   ],
   "metadata": {
    "collapsed": false,
    "ExecuteTime": {
     "start_time": "2024-03-28T01:48:23.018544Z",
     "end_time": "2024-03-28T01:48:23.161099Z"
    }
   }
  },
  {
   "cell_type": "code",
   "execution_count": null,
   "outputs": [],
   "source": [
    "plot_neuron_activity(net, \"ng1\", \"neuron activity for one inside-synapse neuron group\")"
   ],
   "metadata": {
    "collapsed": false,
    "ExecuteTime": {
     "start_time": "2024-03-28T01:48:23.142125Z",
     "end_time": "2024-03-28T01:48:25.008760Z"
    }
   }
  },
  {
   "cell_type": "markdown",
   "source": [
    "#### 3.1.2 c) high n"
   ],
   "metadata": {
    "collapsed": false
   }
  },
  {
   "cell_type": "code",
   "execution_count": null,
   "outputs": [],
   "source": [
    "net = Network(behavior={1: TimeResolution(dt=1.0), })\n",
    "pop1 = NeuronGroup(\n",
    "    net=net,\n",
    "    size=100,\n",
    "    behavior={\n",
    "        # 2: SetCurrent(value=100),\n",
    "        3: ConstantCurrent(value=7,\n",
    "                           noise_range=1),\n",
    "        4: Dendrite(),\n",
    "        5: LIF(\n",
    "            tau=10,\n",
    "            u_rest=-65,\n",
    "            u_reset=-70,\n",
    "            threshold=-32,\n",
    "            R=5,\n",
    "            u_init=\"normal(-60, 10)\",\n",
    "        ),\n",
    "        7: ActivityRecorder(),\n",
    "        8: Recorder(variables=[\"u\", \"I\", \"activity\"], tag=\"ng1_rec\"),\n",
    "        9: EventRecorder(variables=['spike'], tag=\"ng1_event\")\n",
    "    }\n",
    ")\n",
    "syn = SynapseGroup(net=net,\n",
    "                   tag=\"All\",\n",
    "                   src=pop1,\n",
    "                   dst=pop1,\n",
    "                   behavior={3: RandomConnectedFixedInputSynapse(j0=25, variance=0.25, n=90)})\n",
    "\n",
    "net.initialize()\n",
    "net.simulate_iterations(iterations=200)"
   ],
   "metadata": {
    "collapsed": false,
    "ExecuteTime": {
     "start_time": "2024-03-28T01:49:07.623196Z",
     "end_time": "2024-03-28T01:49:07.742663Z"
    }
   }
  },
  {
   "cell_type": "code",
   "execution_count": null,
   "outputs": [],
   "source": [
    "plot_neuron_activity(net, \"ng1\", \"neuron activity for one inside-synapse neuron group\")"
   ],
   "metadata": {
    "collapsed": false,
    "ExecuteTime": {
     "start_time": "2024-03-28T01:49:10.526892Z",
     "end_time": "2024-03-28T01:49:12.487237Z"
    }
   }
  },
  {
   "cell_type": "markdown",
   "source": [
    "## 3.2 Synapse between two groups:\n",
    "Now let's create a synapse between two groups of neurons. First, we test when there's no noise and all neurons begin with the same membrane potential. Now we change parameters of synapse to see results. For example, we test the population with a low amount of n=10, mid p=50 and high p=90"
   ],
   "metadata": {
    "collapsed": false
   }
  },
  {
   "cell_type": "markdown",
   "source": [
    "### 3.2.1 change in n without noisy current"
   ],
   "metadata": {
    "collapsed": false
   }
  },
  {
   "cell_type": "markdown",
   "source": [
    "#### 3.2.1 a) low n"
   ],
   "metadata": {
    "collapsed": false
   }
  },
  {
   "cell_type": "code",
   "execution_count": null,
   "outputs": [],
   "source": [
    "net = Network(behavior={1: TimeResolution(dt=1.0), })\n",
    "pop1 = NeuronGroup(\n",
    "    net=net,\n",
    "    size=100,\n",
    "    behavior={\n",
    "        # 2: SetCurrent(value=100),\n",
    "        3: ConstantCurrent(value=7),\n",
    "        4: Dendrite(),\n",
    "        5: LIF(\n",
    "            tau=10,\n",
    "            u_rest=-65,\n",
    "            u_reset=-70,\n",
    "            threshold=-32,\n",
    "            R=5,\n",
    "            # u_init=\"normal(-60, 10)\",\n",
    "        ),\n",
    "        7: ActivityRecorder(),\n",
    "        8: Recorder(variables=[\"u\", \"I\", \"activity\"], tag=\"ng1_rec\"),\n",
    "        9: EventRecorder(variables=['spike'], tag=\"ng1_event\")\n",
    "    }\n",
    ")\n",
    "pop2 = NeuronGroup(\n",
    "    net=net,\n",
    "    size=100,\n",
    "    behavior={\n",
    "        # 2: SetCurrent(value=100),\n",
    "        3: ConstantCurrent(value=7),\n",
    "        4: Dendrite(),\n",
    "        5: LIF(\n",
    "            tau=10,\n",
    "            u_rest=-65,\n",
    "            u_reset=-70,\n",
    "            threshold=-32,\n",
    "            R=5,\n",
    "            # u_init=\"normal(-60, 10)\",\n",
    "        ),\n",
    "        7: ActivityRecorder(),\n",
    "        8: Recorder(variables=[\"u\", \"I\", \"activity\"], tag=\"ng2_rec\"),\n",
    "        9: EventRecorder(variables=['spike'], tag=\"ng2_event\")\n",
    "    }\n",
    ")\n",
    "syn = SynapseGroup(net=net,\n",
    "                   tag=\"All\",\n",
    "                   src=pop1,\n",
    "                   dst=pop2,\n",
    "                   behavior={3: RandomConnectedFixedInputSynapse(j0=25, variance=0.25, n=10)})\n",
    "\n",
    "net.initialize()\n",
    "net.simulate_iterations(iterations=200)"
   ],
   "metadata": {
    "collapsed": false,
    "ExecuteTime": {
     "start_time": "2024-03-28T10:36:51.150133Z",
     "end_time": "2024-03-28T10:36:51.357624Z"
    }
   }
  },
  {
   "cell_type": "code",
   "execution_count": null,
   "outputs": [],
   "source": [
    "plot_neuron_activity(net, \"ng1\", \"neuron activity for presynaptice neuron group\", net.NeuronGroups[0].behavior[5].init_kwargs)\n",
    "plot_neuron_activity(net, \"ng2\", \"neuron activity for postsynaptic neuron group\", net.NeuronGroups[1].behavior[5].init_kwargs)"
   ],
   "metadata": {
    "collapsed": false,
    "ExecuteTime": {
     "start_time": "2024-03-28T10:56:10.844110Z",
     "end_time": "2024-03-28T10:56:15.033942Z"
    }
   }
  },
  {
   "cell_type": "markdown",
   "source": [
    "#### 3.2.1 b) mid n"
   ],
   "metadata": {
    "collapsed": false
   }
  },
  {
   "cell_type": "code",
   "execution_count": null,
   "outputs": [],
   "source": [
    "net = Network(behavior={1: TimeResolution(dt=1.0), })\n",
    "pop1 = NeuronGroup(\n",
    "    net=net,\n",
    "    size=100,\n",
    "    behavior={\n",
    "        # 2: SetCurrent(value=100),\n",
    "        3: ConstantCurrent(value=7),\n",
    "        4: Dendrite(),\n",
    "        5: LIF(\n",
    "            tau=10,\n",
    "            u_rest=-65,\n",
    "            u_reset=-70,\n",
    "            threshold=-32,\n",
    "            R=5,\n",
    "            # u_init=\"normal(-60, 10)\",\n",
    "        ),\n",
    "        7: ActivityRecorder(),\n",
    "        8: Recorder(variables=[\"u\", \"I\", \"activity\"], tag=\"ng1_rec\"),\n",
    "        9: EventRecorder(variables=['spike'], tag=\"ng1_event\")\n",
    "    }\n",
    ")\n",
    "pop2 = NeuronGroup(\n",
    "    net=net,\n",
    "    size=100,\n",
    "    behavior={\n",
    "        # 2: SetCurrent(value=100),\n",
    "        3: ConstantCurrent(value=7),\n",
    "        4: Dendrite(),\n",
    "        5: LIF(\n",
    "            tau=10,\n",
    "            u_rest=-65,\n",
    "            u_reset=-70,\n",
    "            threshold=-32,\n",
    "            R=5,\n",
    "            # u_init=\"normal(-60, 10)\",\n",
    "        ),\n",
    "        7: ActivityRecorder(),\n",
    "        8: Recorder(variables=[\"u\", \"I\", \"activity\"], tag=\"ng2_rec\"),\n",
    "        9: EventRecorder(variables=['spike'], tag=\"ng2_event\")\n",
    "    }\n",
    ")\n",
    "syn = SynapseGroup(net=net,\n",
    "                   tag=\"All\",\n",
    "                   src=pop1,\n",
    "                   dst=pop2,\n",
    "                   behavior={3: RandomConnectedFixedInputSynapse(j0=25, variance=0.25, n=50)})\n",
    "\n",
    "net.initialize()\n",
    "net.simulate_iterations(iterations=200)"
   ],
   "metadata": {
    "collapsed": false,
    "ExecuteTime": {
     "start_time": "2024-03-28T11:02:25.456714Z",
     "end_time": "2024-03-28T11:02:25.654840Z"
    }
   }
  },
  {
   "cell_type": "code",
   "execution_count": null,
   "outputs": [],
   "source": [
    "plot_neuron_activity(net, \"ng1\", \"neuron activity for presynaptice neuron group\", net.NeuronGroups[0].behavior[5].init_kwargs)\n",
    "plot_neuron_activity(net, \"ng2\", \"neuron activity for postsynaptic neuron group\", net.NeuronGroups[1].behavior[5].init_kwargs)"
   ],
   "metadata": {
    "collapsed": false,
    "ExecuteTime": {
     "start_time": "2024-03-28T11:02:25.662522Z",
     "end_time": "2024-03-28T11:02:28.686478Z"
    }
   }
  },
  {
   "cell_type": "markdown",
   "source": [
    "#### 3.2.1 c) high n"
   ],
   "metadata": {
    "collapsed": false
   }
  },
  {
   "cell_type": "code",
   "execution_count": null,
   "outputs": [],
   "source": [
    "net = Network(behavior={1: TimeResolution(dt=1.0), })\n",
    "pop1 = NeuronGroup(\n",
    "    net=net,\n",
    "    size=100,\n",
    "    behavior={\n",
    "        # 2: SetCurrent(value=100),\n",
    "        3: ConstantCurrent(value=7),\n",
    "        4: Dendrite(),\n",
    "        5: LIF(\n",
    "            tau=10,\n",
    "            u_rest=-65,\n",
    "            u_reset=-70,\n",
    "            threshold=-32,\n",
    "            R=5,\n",
    "            # u_init=\"normal(-60, 10)\",\n",
    "        ),\n",
    "        7: ActivityRecorder(),\n",
    "        8: Recorder(variables=[\"u\", \"I\", \"activity\"], tag=\"ng1_rec\"),\n",
    "        9: EventRecorder(variables=['spike'], tag=\"ng1_event\")\n",
    "    }\n",
    ")\n",
    "pop2 = NeuronGroup(\n",
    "    net=net,\n",
    "    size=100,\n",
    "    behavior={\n",
    "        # 2: SetCurrent(value=100),\n",
    "        3: ConstantCurrent(value=7),\n",
    "        4: Dendrite(),\n",
    "        5: LIF(\n",
    "            tau=10,\n",
    "            u_rest=-65,\n",
    "            u_reset=-70,\n",
    "            threshold=-32,\n",
    "            R=5,\n",
    "            # u_init=\"normal(-60, 10)\",\n",
    "        ),\n",
    "        7: ActivityRecorder(),\n",
    "        8: Recorder(variables=[\"u\", \"I\", \"activity\"], tag=\"ng2_rec\"),\n",
    "        9: EventRecorder(variables=['spike'], tag=\"ng2_event\")\n",
    "    }\n",
    ")\n",
    "syn = SynapseGroup(net=net,\n",
    "                   tag=\"All\",\n",
    "                   src=pop1,\n",
    "                   dst=pop2,\n",
    "                   behavior={3: RandomConnectedFixedInputSynapse(j0=25, variance=0.25, n=90)})\n",
    "\n",
    "net.initialize()\n",
    "net.simulate_iterations(iterations=200)"
   ],
   "metadata": {
    "collapsed": false,
    "ExecuteTime": {
     "start_time": "2024-03-28T11:06:28.348728Z",
     "end_time": "2024-03-28T11:06:28.555789Z"
    }
   }
  },
  {
   "cell_type": "code",
   "execution_count": null,
   "outputs": [],
   "source": [
    "plot_neuron_activity(net, \"ng1\", \"neuron activity for presynaptice neuron group\", net.NeuronGroups[0].behavior[5].init_kwargs)\n",
    "plot_neuron_activity(net, \"ng2\", \"neuron activity for postsynaptic neuron group\", net.NeuronGroups[1].behavior[5].init_kwargs)"
   ],
   "metadata": {
    "collapsed": false,
    "ExecuteTime": {
     "start_time": "2024-03-28T11:06:28.683599Z",
     "end_time": "2024-03-28T11:06:32.914213Z"
    }
   }
  },
  {
   "cell_type": "markdown",
   "source": [
    "### 3.2.2 Change in n when neurons have different values in initial and noisy current:"
   ],
   "metadata": {
    "collapsed": false
   }
  },
  {
   "cell_type": "markdown",
   "source": [
    "#### 3.2.2 a) low n"
   ],
   "metadata": {
    "collapsed": false
   }
  },
  {
   "cell_type": "code",
   "execution_count": null,
   "outputs": [],
   "source": [
    "net = Network(behavior={1: TimeResolution(dt=1.0), })\n",
    "pop1 = NeuronGroup(\n",
    "    net=net,\n",
    "    size=100,\n",
    "    behavior={\n",
    "        # 2: SetCurrent(value=100),\n",
    "        3: ConstantCurrent(value=7,\n",
    "                           noise_range=1),\n",
    "        4: Dendrite(),\n",
    "        5: LIF(\n",
    "            tau=10,\n",
    "            u_rest=-65,\n",
    "            u_reset=-70,\n",
    "            threshold=-32,\n",
    "            R=5,\n",
    "            u_init=\"normal(-60, 10)\",\n",
    "        ),\n",
    "        7: ActivityRecorder(),\n",
    "        8: Recorder(variables=[\"u\", \"I\", \"activity\"], tag=\"ng1_rec\"),\n",
    "        9: EventRecorder(variables=['spike'], tag=\"ng1_event\")\n",
    "    }\n",
    ")\n",
    "pop2 = NeuronGroup(\n",
    "    net=net,\n",
    "    size=100,\n",
    "    behavior={\n",
    "        # 2: SetCurrent(value=100),\n",
    "        3: ConstantCurrent(value=7,\n",
    "                           noise_range=1),\n",
    "        4: Dendrite(),\n",
    "        5: LIF(\n",
    "            tau=10,\n",
    "            u_rest=-65,\n",
    "            u_reset=-70,\n",
    "            threshold=-32,\n",
    "            R=5,\n",
    "            u_init=\"normal(-60, 10)\",\n",
    "        ),\n",
    "        7: ActivityRecorder(),\n",
    "        8: Recorder(variables=[\"u\", \"I\", \"activity\"], tag=\"ng2_rec\"),\n",
    "        9: EventRecorder(variables=['spike'], tag=\"ng2_event\")\n",
    "    }\n",
    ")\n",
    "syn = SynapseGroup(net=net,\n",
    "                   tag=\"All\",\n",
    "                   src=pop1,\n",
    "                   dst=pop2,\n",
    "                   behavior={3: RandomConnectedFixedInputSynapse(j0=25, variance=0.25, n=10)})\n",
    "\n",
    "net.initialize()\n",
    "net.simulate_iterations(iterations=200)"
   ],
   "metadata": {
    "collapsed": false,
    "ExecuteTime": {
     "start_time": "2024-03-28T11:08:21.383463Z",
     "end_time": "2024-03-28T11:08:21.575445Z"
    }
   }
  },
  {
   "cell_type": "code",
   "execution_count": null,
   "outputs": [],
   "source": [
    "plot_neuron_activity(net, \"ng1\", \"neuron activity for presynaptice neuron group\", net.NeuronGroups[0].behavior[5].init_kwargs)\n",
    "plot_neuron_activity(net, \"ng2\", \"neuron activity for postsynaptic neuron group\", net.NeuronGroups[1].behavior[5].init_kwargs)"
   ],
   "metadata": {
    "collapsed": false,
    "ExecuteTime": {
     "start_time": "2024-03-28T11:08:21.576521Z",
     "end_time": "2024-03-28T11:08:26.145887Z"
    }
   }
  },
  {
   "cell_type": "markdown",
   "source": [
    "#### 3.2.2 a) mid n"
   ],
   "metadata": {
    "collapsed": false
   }
  },
  {
   "cell_type": "code",
   "execution_count": null,
   "outputs": [],
   "source": [
    "net = Network(behavior={1: TimeResolution(dt=1.0), })\n",
    "pop1 = NeuronGroup(\n",
    "    net=net,\n",
    "    size=100,\n",
    "    behavior={\n",
    "        # 2: SetCurrent(value=100),\n",
    "        3: ConstantCurrent(value=7,\n",
    "                           noise_range=1),\n",
    "        4: Dendrite(),\n",
    "        5: LIF(\n",
    "            tau=10,\n",
    "            u_rest=-65,\n",
    "            u_reset=-70,\n",
    "            threshold=-32,\n",
    "            R=5,\n",
    "            u_init=\"normal(-60, 10)\",\n",
    "        ),\n",
    "        7: ActivityRecorder(),\n",
    "        8: Recorder(variables=[\"u\", \"I\", \"activity\"], tag=\"ng1_rec\"),\n",
    "        9: EventRecorder(variables=['spike'], tag=\"ng1_event\")\n",
    "    }\n",
    ")\n",
    "pop2 = NeuronGroup(\n",
    "    net=net,\n",
    "    size=100,\n",
    "    behavior={\n",
    "        # 2: SetCurrent(value=100),\n",
    "        3: ConstantCurrent(value=7,\n",
    "                           noise_range=1),\n",
    "        4: Dendrite(),\n",
    "        5: LIF(\n",
    "            tau=10,\n",
    "            u_rest=-65,\n",
    "            u_reset=-70,\n",
    "            threshold=-32,\n",
    "            R=5,\n",
    "            u_init=\"normal(-60, 10)\",\n",
    "        ),\n",
    "        7: ActivityRecorder(),\n",
    "        8: Recorder(variables=[\"u\", \"I\", \"activity\"], tag=\"ng2_rec\"),\n",
    "        9: EventRecorder(variables=['spike'], tag=\"ng2_event\")\n",
    "    }\n",
    ")\n",
    "syn = SynapseGroup(net=net,\n",
    "                   tag=\"All\",\n",
    "                   src=pop1,\n",
    "                   dst=pop2,\n",
    "                   behavior={3: RandomConnectedFixedInputSynapse(j0=25, variance=0.25, n=50)})\n",
    "\n",
    "net.initialize()\n",
    "net.simulate_iterations(iterations=200)"
   ],
   "metadata": {
    "collapsed": false,
    "ExecuteTime": {
     "start_time": "2024-03-28T11:09:11.193354Z",
     "end_time": "2024-03-28T11:09:11.404064Z"
    }
   }
  },
  {
   "cell_type": "code",
   "execution_count": null,
   "outputs": [],
   "source": [
    "plot_neuron_activity(net, \"ng1\", \"neuron activity for presynaptice neuron group\", net.NeuronGroups[0].behavior[5].init_kwargs)\n",
    "plot_neuron_activity(net, \"ng2\", \"neuron activity for postsynaptic neuron group\", net.NeuronGroups[1].behavior[5].init_kwargs)"
   ],
   "metadata": {
    "collapsed": false,
    "ExecuteTime": {
     "start_time": "2024-03-28T11:09:11.411731Z",
     "end_time": "2024-03-28T11:09:16.264514Z"
    }
   }
  },
  {
   "cell_type": "markdown",
   "source": [
    "#### 3.2.2 a) high n"
   ],
   "metadata": {
    "collapsed": false
   }
  },
  {
   "cell_type": "code",
   "execution_count": null,
   "outputs": [],
   "source": [
    "net = Network(behavior={1: TimeResolution(dt=1.0), })\n",
    "pop1 = NeuronGroup(\n",
    "    net=net,\n",
    "    size=100,\n",
    "    behavior={\n",
    "        # 2: SetCurrent(value=100),\n",
    "        3: ConstantCurrent(value=7,\n",
    "                           noise_range=1),\n",
    "        4: Dendrite(),\n",
    "        5: LIF(\n",
    "            tau=10,\n",
    "            u_rest=-65,\n",
    "            u_reset=-70,\n",
    "            threshold=-32,\n",
    "            R=5,\n",
    "            u_init=\"normal(-60, 10)\",\n",
    "        ),\n",
    "        7: ActivityRecorder(),\n",
    "        8: Recorder(variables=[\"u\", \"I\", \"activity\"], tag=\"ng1_rec\"),\n",
    "        9: EventRecorder(variables=['spike'], tag=\"ng1_event\")\n",
    "    }\n",
    ")\n",
    "pop2 = NeuronGroup(\n",
    "    net=net,\n",
    "    size=100,\n",
    "    behavior={\n",
    "        # 2: SetCurrent(value=100),\n",
    "        3: ConstantCurrent(value=7,\n",
    "                           noise_range=1),\n",
    "        4: Dendrite(),\n",
    "        5: LIF(\n",
    "            tau=10,\n",
    "            u_rest=-65,\n",
    "            u_reset=-70,\n",
    "            threshold=-32,\n",
    "            R=5,\n",
    "            u_init=\"normal(-60, 10)\",\n",
    "        ),\n",
    "        7: ActivityRecorder(),\n",
    "        8: Recorder(variables=[\"u\", \"I\", \"activity\"], tag=\"ng2_rec\"),\n",
    "        9: EventRecorder(variables=['spike'], tag=\"ng2_event\")\n",
    "    }\n",
    ")\n",
    "syn = SynapseGroup(net=net,\n",
    "                   tag=\"All\",\n",
    "                   src=pop1,\n",
    "                   dst=pop2,\n",
    "                   behavior={3: RandomConnectedFixedInputSynapse(j0=25, variance=0.25, n=50)})\n",
    "\n",
    "net.initialize()\n",
    "net.simulate_iterations(iterations=200)"
   ],
   "metadata": {
    "collapsed": false,
    "ExecuteTime": {
     "start_time": "2024-03-28T11:09:51.954399Z",
     "end_time": "2024-03-28T11:09:52.166817Z"
    }
   }
  },
  {
   "cell_type": "code",
   "execution_count": null,
   "outputs": [],
   "source": [
    "plot_neuron_activity(net, \"ng1\", \"neuron activity for presynaptice neuron group\", net.NeuronGroups[0].behavior[5].init_kwargs)\n",
    "plot_neuron_activity(net, \"ng2\", \"neuron activity for postsynaptic neuron group\", net.NeuronGroups[1].behavior[5].init_kwargs)"
   ],
   "metadata": {
    "collapsed": false,
    "ExecuteTime": {
     "start_time": "2024-03-28T11:09:52.168822Z",
     "end_time": "2024-03-28T11:09:56.832344Z"
    }
   }
  },
  {
   "cell_type": "markdown",
   "source": [
    "# Noise Current"
   ],
   "metadata": {
    "collapsed": false
   }
  },
  {
   "cell_type": "markdown",
   "source": [
    "Now we experiment all parameters in these models we can test different schemes with noisy current like brownian noise current"
   ],
   "metadata": {
    "collapsed": false
   }
  },
  {
   "cell_type": "markdown",
   "source": [
    "# 1- Fully Connected scheme with noise current"
   ],
   "metadata": {
    "collapsed": false
   }
  },
  {
   "cell_type": "code",
   "execution_count": 20,
   "outputs": [
    {
     "name": "stdout",
     "output_type": "stream",
     "text": [
      "Network['Network_1', 'Network'](Neurons: tensor(100)|1 groups, Synapses: tensor(10000)|1 groups){1:TimeResolution(dt=1.0,)}\r\n",
      "NeuronGroup['NeuronGroup_1', 'NeuronGroup', 'ng'](100){3:NoisyCurrent(iterations=201,mean=7,std=2,noise_type=brownian,seed=1,)4:Dendrite()5:LIF(tau=10,u_rest=-65,u_reset=-70,threshold=-32,R=5,u_init=normal(-60, 10),)7:ActivityRecorder()8:Recorder(variables=['u', 'I', 'activity'],gap_width=0,max_length=None,auto_annotate=True,tag=ng1_rec,)9:EventRecorder(variables=['spike'],gap_width=0,max_length=None,auto_annotate=True,tag=ng1_event,)}\r\n",
      "SynapseGroup['All', 'SynapseGroup', 'syn', 'NeuronGroup_1 => NeuronGroup_1'](S100xD100){3:FullyConnectedSynapse(j0=25,variance=0.25,),}\n",
      "200xBatch: 1/1 (100%) 198.832ms\n"
     ]
    },
    {
     "data": {
      "text/plain": "198.83155822753906"
     },
     "execution_count": 20,
     "metadata": {},
     "output_type": "execute_result"
    }
   ],
   "source": [
    "net = Network(behavior={1: TimeResolution(dt=1.0), })\n",
    "pop1 = NeuronGroup(\n",
    "    net=net,\n",
    "    size=100,\n",
    "    behavior={\n",
    "        # 2: SetCurrent(value=100),\n",
    "        3: NoisyCurrent(iterations=201,\n",
    "                        mean=7,\n",
    "                        std=2,\n",
    "                        noise_type=\"brownian\",\n",
    "                        seed=1),\n",
    "        4: Dendrite(),\n",
    "        5: LIF(\n",
    "            tau=10,\n",
    "            u_rest=-65,\n",
    "            u_reset=-70,\n",
    "            threshold=-32,\n",
    "            R=5,\n",
    "            u_init=\"normal(-60, 10)\",\n",
    "        ),\n",
    "        7: ActivityRecorder(),\n",
    "        8: Recorder(variables=[\"u\", \"I\", \"activity\"], tag=\"ng1_rec\"),\n",
    "        9: EventRecorder(variables=['spike'], tag=\"ng1_event\")\n",
    "    }\n",
    ")\n",
    "syn = SynapseGroup(net=net,\n",
    "                   tag=\"All\",\n",
    "                   src=pop1,\n",
    "                   dst=pop1,\n",
    "                   behavior={3: FullyConnectedSynapse(j0=25, variance=0.25)})\n",
    "\n",
    "net.initialize()\n",
    "net.simulate_iterations(iterations=200)"
   ],
   "metadata": {
    "collapsed": false,
    "ExecuteTime": {
     "start_time": "2024-03-28T11:24:03.893092Z",
     "end_time": "2024-03-28T11:24:04.109327Z"
    }
   }
  },
  {
   "cell_type": "code",
   "execution_count": 21,
   "outputs": [
    {
     "name": "stderr",
     "output_type": "stream",
     "text": [
      "No artists with labels found to put in legend.  Note that artists whose label start with an underscore are ignored when legend() is called with no argument.\n",
      "No artists with labels found to put in legend.  Note that artists whose label start with an underscore are ignored when legend() is called with no argument.\n",
      "No artists with labels found to put in legend.  Note that artists whose label start with an underscore are ignored when legend() is called with no argument.\n"
     ]
    },
    {
     "data": {
      "text/plain": "<Figure size 1800x800 with 6 Axes>",
      "image/png": "[encoded data removed]"
     },
     "metadata": {},
     "output_type": "display_data"
    }
   ],
   "source": [
    "plot_neuron_activity(net, \"ng1\", \"neuron activity for inside-synapse neuron group\", net.NeuronGroups[0].behavior[5].init_kwargs)"
   ],
   "metadata": {
    "collapsed": false,
    "ExecuteTime": {
     "start_time": "2024-03-28T11:24:05.706623Z",
     "end_time": "2024-03-28T11:24:08.309319Z"
    }
   }
  },
  {
   "cell_type": "code",
   "execution_count": 22,
   "outputs": [
    {
     "name": "stdout",
     "output_type": "stream",
     "text": [
      "Network['Network_1', 'Network'](Neurons: tensor(200)|2 groups, Synapses: tensor(10000)|1 groups){1:TimeResolution(dt=1.0,)}\r\n",
      "NeuronGroup['NeuronGroup_1', 'NeuronGroup', 'ng'](100){3:NoisyCurrent(iterations=201,mean=7,std=2,noise_type=brownian,seed=1,)4:Dendrite()5:LIF(tau=10,u_rest=-65,u_reset=-70,threshold=-32,R=5,u_init=normal(-60, 10),)7:ActivityRecorder()8:Recorder(variables=['u', 'I', 'activity'],gap_width=0,max_length=None,auto_annotate=True,tag=ng1_rec,)9:EventRecorder(variables=['spike'],gap_width=0,max_length=None,auto_annotate=True,tag=ng1_event,)}\r\n",
      "NeuronGroup['NeuronGroup_2', 'NeuronGroup', 'ng'](100){3:NoisyCurrent(iterations=201,mean=7,std=2,noise_type=brownian,seed=1,)4:Dendrite()5:LIF(tau=10,u_rest=-65,u_reset=-70,threshold=-32,R=5,u_init=normal(-60, 10),)7:ActivityRecorder()8:Recorder(variables=['u', 'I', 'activity'],gap_width=0,max_length=None,auto_annotate=True,tag=ng2_rec,)9:EventRecorder(variables=['spike'],gap_width=0,max_length=None,auto_annotate=True,tag=ng2_event,)}\r\n",
      "SynapseGroup['All', 'SynapseGroup', 'syn', 'NeuronGroup_1 => NeuronGroup_2'](S100xD100){3:FullyConnectedSynapse(j0=50,variance=0.25,),}\n",
      "200xBatch: 1/1 (100%) 258.903ms\n"
     ]
    },
    {
     "data": {
      "text/plain": "258.90326499938965"
     },
     "execution_count": 22,
     "metadata": {},
     "output_type": "execute_result"
    }
   ],
   "source": [
    "net = Network(behavior={1: TimeResolution(dt=1.0), })\n",
    "pop1 = NeuronGroup(\n",
    "    net=net,\n",
    "    size=100,\n",
    "    behavior={\n",
    "        # 2: SetCurrent(value=100),\n",
    "        3: NoisyCurrent(iterations=201,\n",
    "                        mean=7,\n",
    "                        std=2,\n",
    "                        noise_type=\"brownian\",\n",
    "                        seed=1),\n",
    "        4: Dendrite(),\n",
    "        5: LIF(\n",
    "            tau=10,\n",
    "            u_rest=-65,\n",
    "            u_reset=-70,\n",
    "            threshold=-32,\n",
    "            R=5,\n",
    "            u_init=\"normal(-60, 10)\",\n",
    "        ),\n",
    "        7: ActivityRecorder(),\n",
    "        8: Recorder(variables=[\"u\", \"I\", \"activity\"], tag=\"ng1_rec\"),\n",
    "        9: EventRecorder(variables=['spike'], tag=\"ng1_event\")\n",
    "    }\n",
    ")\n",
    "pop2 = NeuronGroup(\n",
    "    net=net,\n",
    "    size=100,\n",
    "    behavior={\n",
    "        # 2: SetCurrent(value=100),\n",
    "        3: NoisyCurrent(iterations=201,\n",
    "                        mean=7,\n",
    "                        std=2,\n",
    "                        noise_type=\"brownian\",\n",
    "                        seed=1),\n",
    "        4: Dendrite(),\n",
    "        5: LIF(\n",
    "            tau=10,\n",
    "            u_rest=-65,\n",
    "            u_reset=-70,\n",
    "            threshold=-32,\n",
    "            R=5,\n",
    "            u_init=\"normal(-60, 10)\",\n",
    "        ),\n",
    "        7: ActivityRecorder(),\n",
    "        8: Recorder(variables=[\"u\", \"I\", \"activity\"], tag=\"ng2_rec\"),\n",
    "        9: EventRecorder(variables=['spike'], tag=\"ng2_event\")\n",
    "    }\n",
    ")\n",
    "syn = SynapseGroup(net=net,\n",
    "                   tag=\"All\",\n",
    "                   src=pop1,\n",
    "                   dst=pop2,\n",
    "                   behavior={3: FullyConnectedSynapse(j0=50, variance=0.25)})\n",
    "\n",
    "net.initialize()\n",
    "net.simulate_iterations(iterations=200)"
   ],
   "metadata": {
    "collapsed": false,
    "ExecuteTime": {
     "start_time": "2024-03-28T11:24:22.515779Z",
     "end_time": "2024-03-28T11:24:22.794277Z"
    }
   }
  },
  {
   "cell_type": "code",
   "execution_count": 23,
   "outputs": [
    {
     "name": "stderr",
     "output_type": "stream",
     "text": [
      "No artists with labels found to put in legend.  Note that artists whose label start with an underscore are ignored when legend() is called with no argument.\n",
      "No artists with labels found to put in legend.  Note that artists whose label start with an underscore are ignored when legend() is called with no argument.\n",
      "No artists with labels found to put in legend.  Note that artists whose label start with an underscore are ignored when legend() is called with no argument.\n"
     ]
    },
    {
     "data": {
      "text/plain": "<Figure size 1800x800 with 6 Axes>",
      "image/png": "[encoded data removed]"
     },
     "metadata": {},
     "output_type": "display_data"
    },
    {
     "name": "stderr",
     "output_type": "stream",
     "text": [
      "No artists with labels found to put in legend.  Note that artists whose label start with an underscore are ignored when legend() is called with no argument.\n",
      "No artists with labels found to put in legend.  Note that artists whose label start with an underscore are ignored when legend() is called with no argument.\n",
      "No artists with labels found to put in legend.  Note that artists whose label start with an underscore are ignored when legend() is called with no argument.\n"
     ]
    },
    {
     "data": {
      "text/plain": "<Figure size 1800x800 with 6 Axes>",
      "image/png": "[encoded data removed]"
     },
     "metadata": {},
     "output_type": "display_data"
    }
   ],
   "source": [
    "plot_neuron_activity(net, \"ng1\", \"neuron activity for presynaptice neuron group\", net.NeuronGroups[0].behavior[5].init_kwargs)\n",
    "plot_neuron_activity(net, \"ng2\", \"neuron activity for postsynaptice neuron group\", net.NeuronGroups[1].behavior[5].init_kwargs)\n"
   ],
   "metadata": {
    "collapsed": false,
    "ExecuteTime": {
     "start_time": "2024-03-28T11:24:24.407529Z",
     "end_time": "2024-03-28T11:24:28.876882Z"
    }
   }
  },
  {
   "cell_type": "markdown",
   "source": [
    "# 2- Randomly"
   ],
   "metadata": {
    "collapsed": false
   }
  }
 ],
 "metadata": {
  "kernelspec": {
   "display_name": "Python 3",
   "language": "python",
   "name": "python3"
  },
  "language_info": {
   "codemirror_mode": {
    "name": "ipython",
    "version": 2
   },
   "file_extension": ".py",
   "mimetype": "text/x-python",
   "name": "python",
   "nbconvert_exporter": "python",
   "pygments_lexer": "ipython2",
   "version": "2.7.6"
  }
 },
 "nbformat": 4,
 "nbformat_minor": 0
}
